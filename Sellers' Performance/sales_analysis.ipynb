{
  "nbformat": 4,
  "nbformat_minor": 0,
  "metadata": {
    "colab": {
      "name": "sales analysis.ipynb",
      "provenance": []
    },
    "kernelspec": {
      "name": "python3",
      "display_name": "Python 3"
    },
    "language_info": {
      "name": "python"
    },
    "widgets": {
      "application/vnd.jupyter.widget-state+json": {
        "e2ab463d99db41fd8a3bc85abff51c2c": {
          "model_module": "catboost-widget",
          "model_name": "CatboostWidgetModel",
          "model_module_version": "^1.0.0",
          "state": {
            "_view_name": "CatboostWidgetView",
            "_dom_classes": [],
            "_model_name": "CatboostWidgetModel",
            "data": {
              "catboost_info": {
                "content": {
                  "data": {
                    "meta": {
                      "name": "experiment",
                      "parameters": "",
                      "test_metrics": [
                        {
                          "best_value": "Min",
                          "name": "RMSE"
                        }
                      ],
                      "learn_sets": [
                        "learn"
                      ],
                      "launch_mode": "Train",
                      "learn_metrics": [
                        {
                          "best_value": "Min",
                          "name": "RMSE"
                        }
                      ],
                      "iteration_count": 50,
                      "test_sets": [
                        "test"
                      ]
                    },
                    "iterations": [
                      {
                        "test": [
                          23215.96747
                        ],
                        "passed_time": 0.04797531332,
                        "iteration": 0,
                        "remaining_time": 2.350790353,
                        "learn": [
                          25341.84952
                        ]
                      },
                      {
                        "test": [
                          22813.77584
                        ],
                        "passed_time": 0.04960219479,
                        "iteration": 1,
                        "remaining_time": 1.190452675,
                        "learn": [
                          25060.25191
                        ]
                      },
                      {
                        "test": [
                          22593.76724
                        ],
                        "passed_time": 0.05097718397,
                        "iteration": 2,
                        "remaining_time": 0.7986425489,
                        "learn": [
                          24903.31672
                        ]
                      },
                      {
                        "test": [
                          22429.80365
                        ],
                        "passed_time": 0.05233379624,
                        "iteration": 3,
                        "remaining_time": 0.6018386567,
                        "learn": [
                          24714.29522
                        ]
                      },
                      {
                        "test": [
                          22356.56233
                        ],
                        "passed_time": 0.05344038254,
                        "iteration": 4,
                        "remaining_time": 0.4809634429,
                        "learn": [
                          24606.34789
                        ]
                      },
                      {
                        "test": [
                          22318.49592
                        ],
                        "passed_time": 0.05450197065,
                        "iteration": 5,
                        "remaining_time": 0.3996811181,
                        "learn": [
                          24490.15329
                        ]
                      },
                      {
                        "test": [
                          22217.40697
                        ],
                        "passed_time": 0.05579951045,
                        "iteration": 6,
                        "remaining_time": 0.3427684213,
                        "learn": [
                          24423.16362
                        ]
                      },
                      {
                        "test": [
                          22091.25729
                        ],
                        "passed_time": 0.05695052496,
                        "iteration": 7,
                        "remaining_time": 0.2989902561,
                        "learn": [
                          24324.3272
                        ]
                      },
                      {
                        "test": [
                          22032.01295
                        ],
                        "passed_time": 0.05799568703,
                        "iteration": 8,
                        "remaining_time": 0.2642025742,
                        "learn": [
                          24283.26232
                        ]
                      },
                      {
                        "test": [
                          21929.6954
                        ],
                        "passed_time": 0.05905082253,
                        "iteration": 9,
                        "remaining_time": 0.2362032901,
                        "learn": [
                          24199.48941
                        ]
                      },
                      {
                        "test": [
                          21785.69918
                        ],
                        "passed_time": 0.06010709074,
                        "iteration": 10,
                        "remaining_time": 0.2131069581,
                        "learn": [
                          24108.22723
                        ]
                      },
                      {
                        "test": [
                          21764.80059
                        ],
                        "passed_time": 0.06115148827,
                        "iteration": 11,
                        "remaining_time": 0.1936463795,
                        "learn": [
                          23952.57402
                        ]
                      },
                      {
                        "test": [
                          21705.87197
                        ],
                        "passed_time": 0.06222374071,
                        "iteration": 12,
                        "remaining_time": 0.1770983389,
                        "learn": [
                          23875.16774
                        ]
                      },
                      {
                        "test": [
                          21661.18546
                        ],
                        "passed_time": 0.06332207627,
                        "iteration": 13,
                        "remaining_time": 0.1628281961,
                        "learn": [
                          23802.58976
                        ]
                      },
                      {
                        "test": [
                          21609.81582
                        ],
                        "passed_time": 0.06439263056,
                        "iteration": 14,
                        "remaining_time": 0.1502494713,
                        "learn": [
                          23770.2626
                        ]
                      },
                      {
                        "test": [
                          21592.86918
                        ],
                        "passed_time": 0.06544257434,
                        "iteration": 15,
                        "remaining_time": 0.1390654705,
                        "learn": [
                          23756.34874
                        ]
                      },
                      {
                        "test": [
                          21520.54743
                        ],
                        "passed_time": 0.06650558878,
                        "iteration": 16,
                        "remaining_time": 0.1290990841,
                        "learn": [
                          23649.1208
                        ]
                      },
                      {
                        "test": [
                          21444.6483
                        ],
                        "passed_time": 0.06756588146,
                        "iteration": 17,
                        "remaining_time": 0.1201171226,
                        "learn": [
                          23614.32021
                        ]
                      },
                      {
                        "test": [
                          21396.85616
                        ],
                        "passed_time": 0.06860114008,
                        "iteration": 18,
                        "remaining_time": 0.1119281759,
                        "learn": [
                          23582.26165
                        ]
                      },
                      {
                        "test": [
                          21365.46617
                        ],
                        "passed_time": 0.0696418195,
                        "iteration": 19,
                        "remaining_time": 0.1044627293,
                        "learn": [
                          23561.81933
                        ]
                      },
                      {
                        "test": [
                          21329.46082
                        ],
                        "passed_time": 0.07069369507,
                        "iteration": 20,
                        "remaining_time": 0.09762462653,
                        "learn": [
                          23541.68285
                        ]
                      },
                      {
                        "test": [
                          21321.92904
                        ],
                        "passed_time": 0.07174326341,
                        "iteration": 21,
                        "remaining_time": 0.09130960798,
                        "learn": [
                          23527.61705
                        ]
                      },
                      {
                        "test": [
                          21288.044
                        ],
                        "passed_time": 0.07278663097,
                        "iteration": 22,
                        "remaining_time": 0.08544517548,
                        "learn": [
                          23478.34187
                        ]
                      },
                      {
                        "test": [
                          21270.12387
                        ],
                        "passed_time": 0.07383838744,
                        "iteration": 23,
                        "remaining_time": 0.0799915864,
                        "learn": [
                          23459.57621
                        ]
                      },
                      {
                        "test": [
                          21255.25454
                        ],
                        "passed_time": 0.0749731141,
                        "iteration": 24,
                        "remaining_time": 0.0749731141,
                        "learn": [
                          23451.38956
                        ]
                      },
                      {
                        "test": [
                          21226.26548
                        ],
                        "passed_time": 0.07601239992,
                        "iteration": 25,
                        "remaining_time": 0.07016529223,
                        "learn": [
                          23435.04374
                        ]
                      },
                      {
                        "test": [
                          21213.73976
                        ],
                        "passed_time": 0.07707173988,
                        "iteration": 26,
                        "remaining_time": 0.06565370434,
                        "learn": [
                          23423.89806
                        ]
                      },
                      {
                        "test": [
                          21081.73501
                        ],
                        "passed_time": 0.0781021186,
                        "iteration": 27,
                        "remaining_time": 0.06136595033,
                        "learn": [
                          23327.11678
                        ]
                      },
                      {
                        "test": [
                          21075.25257
                        ],
                        "passed_time": 0.07916214492,
                        "iteration": 28,
                        "remaining_time": 0.05732431184,
                        "learn": [
                          23315.63335
                        ]
                      },
                      {
                        "test": [
                          21083.52111
                        ],
                        "passed_time": 0.08021047237,
                        "iteration": 29,
                        "remaining_time": 0.05347364825,
                        "learn": [
                          23301.53579
                        ]
                      },
                      {
                        "test": [
                          21065.00382
                        ],
                        "passed_time": 0.08126732421,
                        "iteration": 30,
                        "remaining_time": 0.04980900516,
                        "learn": [
                          23294.25548
                        ]
                      },
                      {
                        "test": [
                          21063.88739
                        ],
                        "passed_time": 0.08241313792,
                        "iteration": 31,
                        "remaining_time": 0.04635739008,
                        "learn": [
                          23292.98672
                        ]
                      },
                      {
                        "test": [
                          21063.32389
                        ],
                        "passed_time": 0.08348112135,
                        "iteration": 32,
                        "remaining_time": 0.04300542615,
                        "learn": [
                          23292.07283
                        ]
                      },
                      {
                        "test": [
                          21063.51946
                        ],
                        "passed_time": 0.08451621816,
                        "iteration": 33,
                        "remaining_time": 0.03977233796,
                        "learn": [
                          23291.57119
                        ]
                      },
                      {
                        "test": [
                          21041.12307
                        ],
                        "passed_time": 0.08555567124,
                        "iteration": 34,
                        "remaining_time": 0.03666671625,
                        "learn": [
                          23280.65336
                        ]
                      },
                      {
                        "test": [
                          21003.40209
                        ],
                        "passed_time": 0.08658841537,
                        "iteration": 35,
                        "remaining_time": 0.03367327264,
                        "learn": [
                          23258.11677
                        ]
                      },
                      {
                        "test": [
                          20974.53795
                        ],
                        "passed_time": 0.08765385885,
                        "iteration": 36,
                        "remaining_time": 0.03079730176,
                        "learn": [
                          23238.49512
                        ]
                      },
                      {
                        "test": [
                          20959.39585
                        ],
                        "passed_time": 0.08869884092,
                        "iteration": 37,
                        "remaining_time": 0.02801016029,
                        "learn": [
                          23226.95692
                        ]
                      },
                      {
                        "test": [
                          20917.2486
                        ],
                        "passed_time": 0.08973173959,
                        "iteration": 38,
                        "remaining_time": 0.02530895219,
                        "learn": [
                          23145.35599
                        ]
                      },
                      {
                        "test": [
                          20919.53732
                        ],
                        "passed_time": 0.09075913382,
                        "iteration": 39,
                        "remaining_time": 0.02268978346,
                        "learn": [
                          23118.78143
                        ]
                      },
                      {
                        "test": [
                          20916.92906
                        ],
                        "passed_time": 0.09181081757,
                        "iteration": 40,
                        "remaining_time": 0.0201535941,
                        "learn": [
                          23110.31941
                        ]
                      },
                      {
                        "test": [
                          20868.60493
                        ],
                        "passed_time": 0.09284591165,
                        "iteration": 41,
                        "remaining_time": 0.01768493555,
                        "learn": [
                          23073.5153
                        ]
                      },
                      {
                        "test": [
                          20840.45916
                        ],
                        "passed_time": 0.09390323711,
                        "iteration": 42,
                        "remaining_time": 0.01528657348,
                        "learn": [
                          23062.57208
                        ]
                      },
                      {
                        "test": [
                          20819.40907
                        ],
                        "passed_time": 0.09493270858,
                        "iteration": 43,
                        "remaining_time": 0.01294536935,
                        "learn": [
                          22977.09182
                        ]
                      },
                      {
                        "test": [
                          20808.1826
                        ],
                        "passed_time": 0.09595375476,
                        "iteration": 44,
                        "remaining_time": 0.01066152831,
                        "learn": [
                          22972.82942
                        ]
                      },
                      {
                        "test": [
                          20800.57001
                        ],
                        "passed_time": 0.09708657963,
                        "iteration": 45,
                        "remaining_time": 0.008442311272,
                        "learn": [
                          22964.09157
                        ]
                      },
                      {
                        "test": [
                          20800.30141
                        ],
                        "passed_time": 0.09795767786,
                        "iteration": 46,
                        "remaining_time": 0.006252617736,
                        "learn": [
                          22964.08752
                        ]
                      },
                      {
                        "test": [
                          20701.51497
                        ],
                        "passed_time": 0.099008218,
                        "iteration": 47,
                        "remaining_time": 0.004125342417,
                        "learn": [
                          22856.51253
                        ]
                      },
                      {
                        "test": [
                          20730.64389
                        ],
                        "passed_time": 0.1000435157,
                        "iteration": 48,
                        "remaining_time": 0.002041704402,
                        "learn": [
                          22826.79104
                        ]
                      },
                      {
                        "test": [
                          20733.7518
                        ],
                        "passed_time": 0.1010460959,
                        "iteration": 49,
                        "remaining_time": 0,
                        "learn": [
                          22824.61875
                        ]
                      }
                    ]
                  },
                  "total_iterations": 50,
                  "passed_iterations": 49
                },
                "path": "catboost_info",
                "name": "catboost_info"
              }
            },
            "_view_module": "catboost-widget",
            "_model_module_version": "^1.0.0",
            "_view_count": null,
            "_view_module_version": "^1.0.0",
            "layout": "IPY_MODEL_39b9aa5a6b9c4b3590d3337e0ed63634",
            "_model_module": "catboost-widget"
          }
        }
      }
    }
  },
  "cells": [
    {
      "cell_type": "markdown",
      "metadata": {
        "id": "isioQmLyZAQc"
      },
      "source": [
        "## Developer: Andre Kim Scarton "
      ]
    },
    {
      "cell_type": "markdown",
      "metadata": {
        "id": "rrigToTsbo0m"
      },
      "source": [
        "![download.jpg](data:image/jpeg;base64,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)"
      ]
    },
    {
      "cell_type": "markdown",
      "metadata": {
        "id": "UgrGdUvGZGXb"
      },
      "source": [
        "### Context\n",
        "Company wants to have a dashboard with key sales metrics.\n",
        "Knowing the amount of products and total value sold, history of products sold and the total value sold etc..."
      ]
    },
    {
      "cell_type": "markdown",
      "metadata": {
        "id": "bT1cF3oSZl3r"
      },
      "source": [
        "### Business problem\n",
        "* 1 – Know the amount of products sold by the seller and segmented by the product group\n",
        "* 2 – Total amount sold by the seller and segmented by the product group\n",
        "* 3 – History of the amount of products sold by the seller and segmented by the product group\n",
        "* 3 - History of the total value sold by the seller and segmented by the product group\n",
        "* 4 – Assess the seller’s goal\n",
        "* 5 – Number of products sold and total value sold by companies\n",
        "* 6 – Distribution of products by vendor\n",
        "\n",
        "* 7 - Sales forecast - objective is to build a predictive model and forecast sales of each product per employee, where this will help in optimization and inventory, costs, encourage products that have amis tickets to increase revenue\n",
        "\n",
        "\n"
      ]
    },
    {
      "cell_type": "markdown",
      "metadata": {
        "id": "DhZtSZimcaC1"
      },
      "source": [
        "# Data preparation"
      ]
    },
    {
      "cell_type": "code",
      "metadata": {
        "id": "T9-BRvHkxA0H",
        "colab": {
          "base_uri": "https://localhost:8080/"
        },
        "outputId": "a15f2202-9902-402f-beb2-83270e621ca0"
      },
      "source": [
        "# Installing CatBoost package\n",
        "! pip install catboost "
      ],
      "execution_count": null,
      "outputs": [
        {
          "output_type": "stream",
          "name": "stdout",
          "text": [
            "Collecting catboost\n",
            "  Downloading catboost-1.0.3-cp37-none-manylinux1_x86_64.whl (76.3 MB)\n",
            "\u001b[K     |████████████████████████████████| 76.3 MB 1.3 MB/s \n",
            "\u001b[?25hRequirement already satisfied: six in /usr/local/lib/python3.7/dist-packages (from catboost) (1.15.0)\n",
            "Requirement already satisfied: plotly in /usr/local/lib/python3.7/dist-packages (from catboost) (4.4.1)\n",
            "Requirement already satisfied: graphviz in /usr/local/lib/python3.7/dist-packages (from catboost) (0.10.1)\n",
            "Requirement already satisfied: numpy>=1.16.0 in /usr/local/lib/python3.7/dist-packages (from catboost) (1.19.5)\n",
            "Requirement already satisfied: matplotlib in /usr/local/lib/python3.7/dist-packages (from catboost) (3.2.2)\n",
            "Requirement already satisfied: pandas>=0.24.0 in /usr/local/lib/python3.7/dist-packages (from catboost) (1.1.5)\n",
            "Requirement already satisfied: scipy in /usr/local/lib/python3.7/dist-packages (from catboost) (1.4.1)\n",
            "Requirement already satisfied: pytz>=2017.2 in /usr/local/lib/python3.7/dist-packages (from pandas>=0.24.0->catboost) (2018.9)\n",
            "Requirement already satisfied: python-dateutil>=2.7.3 in /usr/local/lib/python3.7/dist-packages (from pandas>=0.24.0->catboost) (2.8.2)\n",
            "Requirement already satisfied: pyparsing!=2.0.4,!=2.1.2,!=2.1.6,>=2.0.1 in /usr/local/lib/python3.7/dist-packages (from matplotlib->catboost) (3.0.6)\n",
            "Requirement already satisfied: kiwisolver>=1.0.1 in /usr/local/lib/python3.7/dist-packages (from matplotlib->catboost) (1.3.2)\n",
            "Requirement already satisfied: cycler>=0.10 in /usr/local/lib/python3.7/dist-packages (from matplotlib->catboost) (0.11.0)\n",
            "Requirement already satisfied: retrying>=1.3.3 in /usr/local/lib/python3.7/dist-packages (from plotly->catboost) (1.3.3)\n",
            "Installing collected packages: catboost\n",
            "Successfully installed catboost-1.0.3\n"
          ]
        }
      ]
    },
    {
      "cell_type": "code",
      "metadata": {
        "id": "wk2Fmk2bZA41"
      },
      "source": [
        "# Importing Libraries\n",
        "import pandas as pd\n",
        "import numpy as np \n",
        "import matplotlib.pyplot as plt\n",
        "import seaborn as sns\n",
        "import plotly.express as px\n",
        "import plotly.graph_objects as go\n",
        "from scipy import stats\n",
        "from catboost import CatBoostRegressor\n",
        "from sklearn.model_selection import train_test_split\n",
        "from sklearn.metrics import mean_squared_error"
      ],
      "execution_count": null,
      "outputs": []
    },
    {
      "cell_type": "code",
      "metadata": {
        "colab": {
          "base_uri": "https://localhost:8080/",
          "height": 573
        },
        "id": "I-_RJEfzcdSP",
        "outputId": "d7109234-2879-4d6e-b4ee-fd7f84808883"
      },
      "source": [
        "# Loading Dataset\n",
        "df = pd.read_excel('/content/drive/MyDrive/Colab Notebooks/Datasets/Maua/Análise de Dados/Tabela_total.xlsx')\n",
        "df.head()"
      ],
      "execution_count": null,
      "outputs": [
        {
          "output_type": "execute_result",
          "data": {
            "text/html": [
              "<div>\n",
              "<style scoped>\n",
              "    .dataframe tbody tr th:only-of-type {\n",
              "        vertical-align: middle;\n",
              "    }\n",
              "\n",
              "    .dataframe tbody tr th {\n",
              "        vertical-align: top;\n",
              "    }\n",
              "\n",
              "    .dataframe thead th {\n",
              "        text-align: right;\n",
              "    }\n",
              "</style>\n",
              "<table border=\"1\" class=\"dataframe\">\n",
              "  <thead>\n",
              "    <tr style=\"text-align: right;\">\n",
              "      <th></th>\n",
              "      <th>Month</th>\n",
              "      <th>Sales Org</th>\n",
              "      <th>Country of goods received</th>\n",
              "      <th>Intercompany</th>\n",
              "      <th>CardCode</th>\n",
              "      <th>CardName</th>\n",
              "      <th>Material group (WAGR)</th>\n",
              "      <th>ItemCode</th>\n",
              "      <th>BA</th>\n",
              "      <th>Dscription</th>\n",
              "      <th>Qty STM</th>\n",
              "      <th>Value STM</th>\n",
              "      <th>TP2</th>\n",
              "      <th>Order intake QTY</th>\n",
              "      <th>Order intake Value</th>\n",
              "      <th>Representative</th>\n",
              "      <th>Stage of shipment</th>\n",
              "      <th>OI cost of sales</th>\n",
              "      <th>Invoiced cost of sales</th>\n",
              "      <th>Customer no. (Ship-to Party)</th>\n",
              "      <th>Customer name (Ship-to party)</th>\n",
              "      <th>Postal code sold to party</th>\n",
              "      <th>City sold to party</th>\n",
              "      <th>Postal code ship to party</th>\n",
              "      <th>City ship to party</th>\n",
              "      <th>CalENDerday</th>\n",
              "      <th>Belegnummer Auftrag</th>\n",
              "      <th>Belegnummer Rechnung</th>\n",
              "      <th>Meta</th>\n",
              "    </tr>\n",
              "  </thead>\n",
              "  <tbody>\n",
              "    <tr>\n",
              "      <th>0</th>\n",
              "      <td>1.202</td>\n",
              "      <td>1690</td>\n",
              "      <td>BR</td>\n",
              "      <td>NaN</td>\n",
              "      <td>20290742</td>\n",
              "      <td>Metrohm Brasil Instrumentação Análitica Ltda.</td>\n",
              "      <td>WBFBN</td>\n",
              "      <td>PRACTUM612-1OBR</td>\n",
              "      <td>Lab Weighing</td>\n",
              "      <td>Laboratory balance 610g_ 10mg</td>\n",
              "      <td>0</td>\n",
              "      <td>0.0</td>\n",
              "      <td>NaN</td>\n",
              "      <td>1</td>\n",
              "      <td>3018.40</td>\n",
              "      <td>1690-15</td>\n",
              "      <td>NaN</td>\n",
              "      <td>NaN</td>\n",
              "      <td>NaN</td>\n",
              "      <td>20290742</td>\n",
              "      <td>Metrohm Brasil Instrumentação Análitica Ltda.</td>\n",
              "      <td>05007-030</td>\n",
              "      <td>São Paulo</td>\n",
              "      <td>05007-030</td>\n",
              "      <td>São Paulo</td>\n",
              "      <td>2020-01-08</td>\n",
              "      <td>1.016934e+09</td>\n",
              "      <td>NaN</td>\n",
              "      <td>1000000</td>\n",
              "    </tr>\n",
              "    <tr>\n",
              "      <th>1</th>\n",
              "      <td>1.202</td>\n",
              "      <td>1690</td>\n",
              "      <td>BR</td>\n",
              "      <td>NaN</td>\n",
              "      <td>20290829</td>\n",
              "      <td>Refinaria de Petroleo Riograndense S/A</td>\n",
              "      <td>LF000</td>\n",
              "      <td>11301--47------N</td>\n",
              "      <td>Lab Filtration</td>\n",
              "      <td>CN membrane, 8 µm, 47 mm, 100 pcs</td>\n",
              "      <td>0</td>\n",
              "      <td>0.0</td>\n",
              "      <td>NaN</td>\n",
              "      <td>4</td>\n",
              "      <td>1028.35</td>\n",
              "      <td>1690-36</td>\n",
              "      <td>NaN</td>\n",
              "      <td>NaN</td>\n",
              "      <td>NaN</td>\n",
              "      <td>20290829</td>\n",
              "      <td>Refinaria de Petroleo Riograndense S/A</td>\n",
              "      <td>96202-900</td>\n",
              "      <td>Rio Grande</td>\n",
              "      <td>96202-900</td>\n",
              "      <td>Rio Grande</td>\n",
              "      <td>2020-01-02</td>\n",
              "      <td>1.016934e+09</td>\n",
              "      <td>NaN</td>\n",
              "      <td>1000000</td>\n",
              "    </tr>\n",
              "    <tr>\n",
              "      <th>2</th>\n",
              "      <td>1.202</td>\n",
              "      <td>1690</td>\n",
              "      <td>BR</td>\n",
              "      <td>NaN</td>\n",
              "      <td>20291089</td>\n",
              "      <td>Leco Instrumentos LTDA</td>\n",
              "      <td>WBDBO</td>\n",
              "      <td>QUINTIX224-1OBR</td>\n",
              "      <td>Lab Weighing</td>\n",
              "      <td>Laboratory balance 220g_ 0,1mg</td>\n",
              "      <td>0</td>\n",
              "      <td>0.0</td>\n",
              "      <td>NaN</td>\n",
              "      <td>1</td>\n",
              "      <td>10611.15</td>\n",
              "      <td>1690-20</td>\n",
              "      <td>NaN</td>\n",
              "      <td>NaN</td>\n",
              "      <td>NaN</td>\n",
              "      <td>20291089</td>\n",
              "      <td>Leco Instrumentos LTDA</td>\n",
              "      <td>22281-080</td>\n",
              "      <td>Rio de Janeiro</td>\n",
              "      <td>22281-080</td>\n",
              "      <td>Rio de Janeiro</td>\n",
              "      <td>2020-01-02</td>\n",
              "      <td>1.016934e+09</td>\n",
              "      <td>NaN</td>\n",
              "      <td>1000000</td>\n",
              "    </tr>\n",
              "    <tr>\n",
              "      <th>3</th>\n",
              "      <td>1.202</td>\n",
              "      <td>1690</td>\n",
              "      <td>BR</td>\n",
              "      <td>NaN</td>\n",
              "      <td>20291830</td>\n",
              "      <td>Althaia S.A. Industria Farmacêutica</td>\n",
              "      <td>MB022</td>\n",
              "      <td>14055--47------N</td>\n",
              "      <td>Microbiology</td>\n",
              "      <td>NKS Standard TTC, meio de cultura desidratado,...</td>\n",
              "      <td>0</td>\n",
              "      <td>0.0</td>\n",
              "      <td>NaN</td>\n",
              "      <td>5</td>\n",
              "      <td>1901.33</td>\n",
              "      <td>1690-2</td>\n",
              "      <td>NaN</td>\n",
              "      <td>NaN</td>\n",
              "      <td>NaN</td>\n",
              "      <td>20291830</td>\n",
              "      <td>Althaia S.A. Industria Farmacêutica</td>\n",
              "      <td>12952-820</td>\n",
              "      <td>Atibaia</td>\n",
              "      <td>05564-000</td>\n",
              "      <td>São Paulo</td>\n",
              "      <td>2020-01-02</td>\n",
              "      <td>1.016934e+09</td>\n",
              "      <td>NaN</td>\n",
              "      <td>1000000</td>\n",
              "    </tr>\n",
              "    <tr>\n",
              "      <th>4</th>\n",
              "      <td>1.202</td>\n",
              "      <td>1690</td>\n",
              "      <td>BR</td>\n",
              "      <td>NaN</td>\n",
              "      <td>20291830</td>\n",
              "      <td>Althaia S.A. Industria Farmacêutica</td>\n",
              "      <td>MB022</td>\n",
              "      <td>14075--47------N</td>\n",
              "      <td>Microbiology</td>\n",
              "      <td>NKS Cetrimide, meio de cultura, estéreis cx c/...</td>\n",
              "      <td>0</td>\n",
              "      <td>0.0</td>\n",
              "      <td>NaN</td>\n",
              "      <td>3</td>\n",
              "      <td>1445.11</td>\n",
              "      <td>1690-2</td>\n",
              "      <td>NaN</td>\n",
              "      <td>NaN</td>\n",
              "      <td>NaN</td>\n",
              "      <td>20291830</td>\n",
              "      <td>Althaia S.A. Industria Farmacêutica</td>\n",
              "      <td>12952-820</td>\n",
              "      <td>Atibaia</td>\n",
              "      <td>05564-000</td>\n",
              "      <td>São Paulo</td>\n",
              "      <td>2020-01-02</td>\n",
              "      <td>1.016934e+09</td>\n",
              "      <td>NaN</td>\n",
              "      <td>1000000</td>\n",
              "    </tr>\n",
              "  </tbody>\n",
              "</table>\n",
              "</div>"
            ],
            "text/plain": [
              "   Month  Sales Org  ... Belegnummer Rechnung    Meta \n",
              "0  1.202       1690  ...                  NaN  1000000\n",
              "1  1.202       1690  ...                  NaN  1000000\n",
              "2  1.202       1690  ...                  NaN  1000000\n",
              "3  1.202       1690  ...                  NaN  1000000\n",
              "4  1.202       1690  ...                  NaN  1000000\n",
              "\n",
              "[5 rows x 29 columns]"
            ]
          },
          "metadata": {},
          "execution_count": 3
        }
      ]
    },
    {
      "cell_type": "code",
      "metadata": {
        "id": "cXTkV4WAqh_m"
      },
      "source": [
        "# Description of the variables\n",
        "  # Month = Month referring to the sale\n",
        "  # Sales Org = Code referring to the organization\n",
        "  # Country of goods received = Country of goods received\n",
        "  # Intercompany = Intercompany\n",
        "  # CardCode = Code referring to the customer (Company where it was sold)\n",
        "  # CardName = Name of the company that made the sale\n",
        "  # Material group (WAGR) = Material group\n",
        "  # ItemCode = Product code\n",
        "  # BA = Material group (Macro)\n",
        "  # Dscription = Product name\n",
        "  # Qty STM = Quantity of products sold\n",
        "  # Value STM = Total sale price\n",
        "  # TP2\n",
        "  # Order intake QTY = Order Placed\n",
        "  # Order intake Value = Placed Value\n",
        "  # Representative = Representative\n",
        "  # Stage of shipment = Shipment Stage\n",
        "  # OI cost of sales = Cost of sale (See what OL is)\n",
        "  # Invoiced cost of sales = Invoiced cost of sales\n",
        "  # Customer no. (Ship-to Party) = Customer No. of (Sender)\n",
        "  # Customer name (Ship-to party) = Customer name (sender)\n",
        "  # Postal code sold to party = Postal code sold separately\n",
        "  # City sold to party = City sold per part\n",
        "  # Postal code ship to party = Postal code sent separately\n",
        "  # City ship to party = City where the product was shipped\n",
        "  # CalENDerday = Day of the product on sale\n",
        "  # Belegnummer Auftrag\n",
        "  # Belegnummer Rechnung"
      ],
      "execution_count": null,
      "outputs": []
    },
    {
      "cell_type": "code",
      "metadata": {
        "colab": {
          "base_uri": "https://localhost:8080/"
        },
        "id": "jKXR241NcneU",
        "outputId": "cbd7a973-9d99-4441-cefc-a50e17fb0601"
      },
      "source": [
        "# Collecting dataframe information\n",
        "# We can see that it contains 3543 rows and 29 columns\n",
        "df.info()"
      ],
      "execution_count": null,
      "outputs": [
        {
          "output_type": "stream",
          "name": "stdout",
          "text": [
            "<class 'pandas.core.frame.DataFrame'>\n",
            "RangeIndex: 3544 entries, 0 to 3543\n",
            "Data columns (total 29 columns):\n",
            " #   Column                         Non-Null Count  Dtype         \n",
            "---  ------                         --------------  -----         \n",
            " 0   Month                          3544 non-null   float64       \n",
            " 1   Sales Org                      3544 non-null   int64         \n",
            " 2   Country of goods received      3544 non-null   object        \n",
            " 3   Intercompany                   3 non-null      float64       \n",
            " 4   CardCode                       3544 non-null   int64         \n",
            " 5   CardName                       3544 non-null   object        \n",
            " 6   Material group (WAGR)          3544 non-null   object        \n",
            " 7   ItemCode                       3544 non-null   object        \n",
            " 8   BA                             3544 non-null   object        \n",
            " 9   Dscription                     3544 non-null   object        \n",
            " 10  Qty STM                        3544 non-null   int64         \n",
            " 11  Value STM                      3544 non-null   float64       \n",
            " 12  TP2                            0 non-null      float64       \n",
            " 13  Order intake QTY               3544 non-null   int64         \n",
            " 14  Order intake Value             3544 non-null   float64       \n",
            " 15  Representative                 3544 non-null   object        \n",
            " 16  Stage of shipment              0 non-null      float64       \n",
            " 17  OI cost of sales               0 non-null      float64       \n",
            " 18  Invoiced cost of sales         0 non-null      float64       \n",
            " 19  Customer no. (Ship-to Party)   3544 non-null   object        \n",
            " 20  Customer name (Ship-to party)  3544 non-null   object        \n",
            " 21  Postal code sold to party      3544 non-null   object        \n",
            " 22  City sold to party             3542 non-null   object        \n",
            " 23  Postal code ship to party      3544 non-null   object        \n",
            " 24  City ship to party             3542 non-null   object        \n",
            " 25  CalENDerday                    3544 non-null   datetime64[ns]\n",
            " 26  Belegnummer Auftrag            1772 non-null   float64       \n",
            " 27  Belegnummer Rechnung           1772 non-null   float64       \n",
            " 28  Meta                           3544 non-null   int64         \n",
            "dtypes: datetime64[ns](1), float64(10), int64(5), object(13)\n",
            "memory usage: 803.1+ KB\n"
          ]
        }
      ]
    },
    {
      "cell_type": "code",
      "metadata": {
        "id": "-bHAKd0AdiXd"
      },
      "source": [
        "# Creating a different dataframe to be manipulated\n",
        "df1 = df"
      ],
      "execution_count": null,
      "outputs": []
    },
    {
      "cell_type": "markdown",
      "metadata": {
        "id": "faSZ0JA3eFcX"
      },
      "source": [
        "## Análise de missings"
      ]
    },
    {
      "cell_type": "code",
      "metadata": {
        "colab": {
          "base_uri": "https://localhost:8080/"
        },
        "id": "3y-yBILad43Y",
        "outputId": "3697d766-2802-4464-8350-e23f86fa0f8f"
      },
      "source": [
        "# Checking the number of nulls in the dataframe (%) per column\n",
        "# We can verify that enough columns are null, for that we can remove these columns so as not to disturb the analysis\n",
        "df1.isnull().sum(axis=0)/df1.shape[0] "
      ],
      "execution_count": null,
      "outputs": [
        {
          "output_type": "execute_result",
          "data": {
            "text/plain": [
              "Month                            0.000000\n",
              "Sales Org                        0.000000\n",
              "Country of goods received        0.000000\n",
              "Intercompany                     0.999153\n",
              "CardCode                         0.000000\n",
              "CardName                         0.000000\n",
              "Material group (WAGR)            0.000000\n",
              "ItemCode                         0.000000\n",
              "BA                               0.000000\n",
              "Dscription                       0.000000\n",
              "Qty STM                          0.000000\n",
              "Value STM                        0.000000\n",
              "TP2                              1.000000\n",
              "Order intake QTY                 0.000000\n",
              "Order intake Value               0.000000\n",
              "Representative                   0.000000\n",
              "Stage of shipment                1.000000\n",
              "OI cost of sales                 1.000000\n",
              "Invoiced cost of sales           1.000000\n",
              "Customer no. (Ship-to Party)     0.000000\n",
              "Customer name (Ship-to party)    0.000000\n",
              "Postal code sold to party        0.000000\n",
              "City sold to party               0.000564\n",
              "Postal code ship to party        0.000000\n",
              "City ship to party               0.000564\n",
              "CalENDerday                      0.000000\n",
              "Belegnummer Auftrag              0.500000\n",
              "Belegnummer Rechnung             0.500000\n",
              "Meta                             0.000000\n",
              "dtype: float64"
            ]
          },
          "metadata": {},
          "execution_count": 7
        }
      ]
    },
    {
      "cell_type": "code",
      "metadata": {
        "id": "rCs3005fiti4"
      },
      "source": [
        "# Deleting columns that are more than 20% missing\n",
        "df1 = df1.drop(columns=['Intercompany','TP2','Stage of shipment','OI cost of sales','Invoiced cost of sales','Belegnummer Auftrag','Belegnummer Rechnung'])"
      ],
      "execution_count": null,
      "outputs": []
    },
    {
      "cell_type": "code",
      "metadata": {
        "colab": {
          "base_uri": "https://localhost:8080/"
        },
        "id": "L3wmd4wNkhVT",
        "outputId": "d6dd0f19-48ba-4c4f-c562-db2d1f822284"
      },
      "source": [
        "df1.info()"
      ],
      "execution_count": null,
      "outputs": [
        {
          "output_type": "stream",
          "name": "stdout",
          "text": [
            "<class 'pandas.core.frame.DataFrame'>\n",
            "RangeIndex: 3544 entries, 0 to 3543\n",
            "Data columns (total 22 columns):\n",
            " #   Column                         Non-Null Count  Dtype         \n",
            "---  ------                         --------------  -----         \n",
            " 0   Month                          3544 non-null   float64       \n",
            " 1   Sales Org                      3544 non-null   int64         \n",
            " 2   Country of goods received      3544 non-null   object        \n",
            " 3   CardCode                       3544 non-null   int64         \n",
            " 4   CardName                       3544 non-null   object        \n",
            " 5   Material group (WAGR)          3544 non-null   object        \n",
            " 6   ItemCode                       3544 non-null   object        \n",
            " 7   BA                             3544 non-null   object        \n",
            " 8   Dscription                     3544 non-null   object        \n",
            " 9   Qty STM                        3544 non-null   int64         \n",
            " 10  Value STM                      3544 non-null   float64       \n",
            " 11  Order intake QTY               3544 non-null   int64         \n",
            " 12  Order intake Value             3544 non-null   float64       \n",
            " 13  Representative                 3544 non-null   object        \n",
            " 14  Customer no. (Ship-to Party)   3544 non-null   object        \n",
            " 15  Customer name (Ship-to party)  3544 non-null   object        \n",
            " 16  Postal code sold to party      3544 non-null   object        \n",
            " 17  City sold to party             3542 non-null   object        \n",
            " 18  Postal code ship to party      3544 non-null   object        \n",
            " 19  City ship to party             3542 non-null   object        \n",
            " 20  CalENDerday                    3544 non-null   datetime64[ns]\n",
            " 21  Meta                           3544 non-null   int64         \n",
            "dtypes: datetime64[ns](1), float64(3), int64(5), object(13)\n",
            "memory usage: 609.2+ KB\n"
          ]
        }
      ]
    },
    {
      "cell_type": "code",
      "metadata": {
        "colab": {
          "base_uri": "https://localhost:8080/",
          "height": 300
        },
        "id": "w9h8g4Q2ubd2",
        "outputId": "5aaf7594-1764-4cb3-b26b-466ff5afd6c1"
      },
      "source": [
        "df1.describe()"
      ],
      "execution_count": null,
      "outputs": [
        {
          "output_type": "execute_result",
          "data": {
            "text/html": [
              "<div>\n",
              "<style scoped>\n",
              "    .dataframe tbody tr th:only-of-type {\n",
              "        vertical-align: middle;\n",
              "    }\n",
              "\n",
              "    .dataframe tbody tr th {\n",
              "        vertical-align: top;\n",
              "    }\n",
              "\n",
              "    .dataframe thead th {\n",
              "        text-align: right;\n",
              "    }\n",
              "</style>\n",
              "<table border=\"1\" class=\"dataframe\">\n",
              "  <thead>\n",
              "    <tr style=\"text-align: right;\">\n",
              "      <th></th>\n",
              "      <th>Month</th>\n",
              "      <th>Sales Org</th>\n",
              "      <th>CardCode</th>\n",
              "      <th>Qty STM</th>\n",
              "      <th>Value STM</th>\n",
              "      <th>Order intake QTY</th>\n",
              "      <th>Order intake Value</th>\n",
              "      <th>Meta</th>\n",
              "    </tr>\n",
              "  </thead>\n",
              "  <tbody>\n",
              "    <tr>\n",
              "      <th>count</th>\n",
              "      <td>3544.000000</td>\n",
              "      <td>3544.0</td>\n",
              "      <td>3.544000e+03</td>\n",
              "      <td>3544.000000</td>\n",
              "      <td>3544.000000</td>\n",
              "      <td>3544.000000</td>\n",
              "      <td>3544.000000</td>\n",
              "      <td>3544.0</td>\n",
              "    </tr>\n",
              "    <tr>\n",
              "      <th>mean</th>\n",
              "      <td>2.631740</td>\n",
              "      <td>1690.0</td>\n",
              "      <td>2.665714e+07</td>\n",
              "      <td>2.212754</td>\n",
              "      <td>1950.236497</td>\n",
              "      <td>2.409707</td>\n",
              "      <td>2153.799444</td>\n",
              "      <td>1000000.0</td>\n",
              "    </tr>\n",
              "    <tr>\n",
              "      <th>std</th>\n",
              "      <td>1.097364</td>\n",
              "      <td>0.0</td>\n",
              "      <td>2.167292e+07</td>\n",
              "      <td>7.963712</td>\n",
              "      <td>14949.042660</td>\n",
              "      <td>17.547863</td>\n",
              "      <td>9811.280480</td>\n",
              "      <td>0.0</td>\n",
              "    </tr>\n",
              "    <tr>\n",
              "      <th>min</th>\n",
              "      <td>1.202000</td>\n",
              "      <td>1690.0</td>\n",
              "      <td>1.189000e+03</td>\n",
              "      <td>-30.000000</td>\n",
              "      <td>-35011.660000</td>\n",
              "      <td>0.000000</td>\n",
              "      <td>0.000000</td>\n",
              "      <td>1000000.0</td>\n",
              "    </tr>\n",
              "    <tr>\n",
              "      <th>25%</th>\n",
              "      <td>1.202000</td>\n",
              "      <td>1690.0</td>\n",
              "      <td>2.029148e+07</td>\n",
              "      <td>0.000000</td>\n",
              "      <td>0.000000</td>\n",
              "      <td>0.000000</td>\n",
              "      <td>0.000000</td>\n",
              "      <td>1000000.0</td>\n",
              "    </tr>\n",
              "    <tr>\n",
              "      <th>50%</th>\n",
              "      <td>2.202000</td>\n",
              "      <td>1690.0</td>\n",
              "      <td>2.029215e+07</td>\n",
              "      <td>0.000000</td>\n",
              "      <td>0.000000</td>\n",
              "      <td>0.500000</td>\n",
              "      <td>0.000000</td>\n",
              "      <td>1000000.0</td>\n",
              "    </tr>\n",
              "    <tr>\n",
              "      <th>75%</th>\n",
              "      <td>3.202000</td>\n",
              "      <td>1690.0</td>\n",
              "      <td>2.030515e+07</td>\n",
              "      <td>2.000000</td>\n",
              "      <td>1048.437500</td>\n",
              "      <td>2.000000</td>\n",
              "      <td>1084.700000</td>\n",
              "      <td>1000000.0</td>\n",
              "    </tr>\n",
              "    <tr>\n",
              "      <th>max</th>\n",
              "      <td>4.202000</td>\n",
              "      <td>1690.0</td>\n",
              "      <td>1.000442e+08</td>\n",
              "      <td>200.000000</td>\n",
              "      <td>760500.660000</td>\n",
              "      <td>953.000000</td>\n",
              "      <td>255000.010000</td>\n",
              "      <td>1000000.0</td>\n",
              "    </tr>\n",
              "  </tbody>\n",
              "</table>\n",
              "</div>"
            ],
            "text/plain": [
              "             Month  Sales Org  ...  Order intake Value      Meta \n",
              "count  3544.000000     3544.0  ...         3544.000000     3544.0\n",
              "mean      2.631740     1690.0  ...         2153.799444  1000000.0\n",
              "std       1.097364        0.0  ...         9811.280480        0.0\n",
              "min       1.202000     1690.0  ...            0.000000  1000000.0\n",
              "25%       1.202000     1690.0  ...            0.000000  1000000.0\n",
              "50%       2.202000     1690.0  ...            0.000000  1000000.0\n",
              "75%       3.202000     1690.0  ...         1084.700000  1000000.0\n",
              "max       4.202000     1690.0  ...       255000.010000  1000000.0\n",
              "\n",
              "[8 rows x 8 columns]"
            ]
          },
          "metadata": {},
          "execution_count": 10
        }
      ]
    },
    {
      "cell_type": "code",
      "metadata": {
        "colab": {
          "base_uri": "https://localhost:8080/"
        },
        "id": "Mv_8t-tGetO4",
        "outputId": "300c6999-7aea-4d3a-9f16-93379cc88c32"
      },
      "source": [
        "# Checking the number of nulls in the dataframe (%) per line (Year and Month)\n",
        "xlinha = df1.isnull().sum(axis=1)/df1.shape[1]\n",
        "xlinha"
      ],
      "execution_count": null,
      "outputs": [
        {
          "output_type": "execute_result",
          "data": {
            "text/plain": [
              "0       0.0\n",
              "1       0.0\n",
              "2       0.0\n",
              "3       0.0\n",
              "4       0.0\n",
              "       ... \n",
              "3539    0.0\n",
              "3540    0.0\n",
              "3541    0.0\n",
              "3542    0.0\n",
              "3543    0.0\n",
              "Length: 3544, dtype: float64"
            ]
          },
          "metadata": {},
          "execution_count": 11
        }
      ]
    },
    {
      "cell_type": "code",
      "metadata": {
        "id": "dHPUV1fyetzV"
      },
      "source": [
        "#Creating a column in the dataframe with the percentage of nulls per row (Year and Month)\n",
        "df1['n_missing_linha_mes_ano'] = xlinha.values"
      ],
      "execution_count": null,
      "outputs": []
    },
    {
      "cell_type": "code",
      "metadata": {
        "colab": {
          "base_uri": "https://localhost:8080/",
          "height": 573
        },
        "id": "0wBcKPq7fXPP",
        "outputId": "f1534e3d-73a5-4c20-bf86-35590f867275"
      },
      "source": [
        "df1.head()"
      ],
      "execution_count": null,
      "outputs": [
        {
          "output_type": "execute_result",
          "data": {
            "text/html": [
              "<div>\n",
              "<style scoped>\n",
              "    .dataframe tbody tr th:only-of-type {\n",
              "        vertical-align: middle;\n",
              "    }\n",
              "\n",
              "    .dataframe tbody tr th {\n",
              "        vertical-align: top;\n",
              "    }\n",
              "\n",
              "    .dataframe thead th {\n",
              "        text-align: right;\n",
              "    }\n",
              "</style>\n",
              "<table border=\"1\" class=\"dataframe\">\n",
              "  <thead>\n",
              "    <tr style=\"text-align: right;\">\n",
              "      <th></th>\n",
              "      <th>Month</th>\n",
              "      <th>Sales Org</th>\n",
              "      <th>Country of goods received</th>\n",
              "      <th>CardCode</th>\n",
              "      <th>CardName</th>\n",
              "      <th>Material group (WAGR)</th>\n",
              "      <th>ItemCode</th>\n",
              "      <th>BA</th>\n",
              "      <th>Dscription</th>\n",
              "      <th>Qty STM</th>\n",
              "      <th>Value STM</th>\n",
              "      <th>Order intake QTY</th>\n",
              "      <th>Order intake Value</th>\n",
              "      <th>Representative</th>\n",
              "      <th>Customer no. (Ship-to Party)</th>\n",
              "      <th>Customer name (Ship-to party)</th>\n",
              "      <th>Postal code sold to party</th>\n",
              "      <th>City sold to party</th>\n",
              "      <th>Postal code ship to party</th>\n",
              "      <th>City ship to party</th>\n",
              "      <th>CalENDerday</th>\n",
              "      <th>Meta</th>\n",
              "      <th>n_missing_linha_mes_ano</th>\n",
              "    </tr>\n",
              "  </thead>\n",
              "  <tbody>\n",
              "    <tr>\n",
              "      <th>0</th>\n",
              "      <td>1.202</td>\n",
              "      <td>1690</td>\n",
              "      <td>BR</td>\n",
              "      <td>20290742</td>\n",
              "      <td>Metrohm Brasil Instrumentação Análitica Ltda.</td>\n",
              "      <td>WBFBN</td>\n",
              "      <td>PRACTUM612-1OBR</td>\n",
              "      <td>Lab Weighing</td>\n",
              "      <td>Laboratory balance 610g_ 10mg</td>\n",
              "      <td>0</td>\n",
              "      <td>0.0</td>\n",
              "      <td>1</td>\n",
              "      <td>3018.40</td>\n",
              "      <td>1690-15</td>\n",
              "      <td>20290742</td>\n",
              "      <td>Metrohm Brasil Instrumentação Análitica Ltda.</td>\n",
              "      <td>05007-030</td>\n",
              "      <td>São Paulo</td>\n",
              "      <td>05007-030</td>\n",
              "      <td>São Paulo</td>\n",
              "      <td>2020-01-08</td>\n",
              "      <td>1000000</td>\n",
              "      <td>0.0</td>\n",
              "    </tr>\n",
              "    <tr>\n",
              "      <th>1</th>\n",
              "      <td>1.202</td>\n",
              "      <td>1690</td>\n",
              "      <td>BR</td>\n",
              "      <td>20290829</td>\n",
              "      <td>Refinaria de Petroleo Riograndense S/A</td>\n",
              "      <td>LF000</td>\n",
              "      <td>11301--47------N</td>\n",
              "      <td>Lab Filtration</td>\n",
              "      <td>CN membrane, 8 µm, 47 mm, 100 pcs</td>\n",
              "      <td>0</td>\n",
              "      <td>0.0</td>\n",
              "      <td>4</td>\n",
              "      <td>1028.35</td>\n",
              "      <td>1690-36</td>\n",
              "      <td>20290829</td>\n",
              "      <td>Refinaria de Petroleo Riograndense S/A</td>\n",
              "      <td>96202-900</td>\n",
              "      <td>Rio Grande</td>\n",
              "      <td>96202-900</td>\n",
              "      <td>Rio Grande</td>\n",
              "      <td>2020-01-02</td>\n",
              "      <td>1000000</td>\n",
              "      <td>0.0</td>\n",
              "    </tr>\n",
              "    <tr>\n",
              "      <th>2</th>\n",
              "      <td>1.202</td>\n",
              "      <td>1690</td>\n",
              "      <td>BR</td>\n",
              "      <td>20291089</td>\n",
              "      <td>Leco Instrumentos LTDA</td>\n",
              "      <td>WBDBO</td>\n",
              "      <td>QUINTIX224-1OBR</td>\n",
              "      <td>Lab Weighing</td>\n",
              "      <td>Laboratory balance 220g_ 0,1mg</td>\n",
              "      <td>0</td>\n",
              "      <td>0.0</td>\n",
              "      <td>1</td>\n",
              "      <td>10611.15</td>\n",
              "      <td>1690-20</td>\n",
              "      <td>20291089</td>\n",
              "      <td>Leco Instrumentos LTDA</td>\n",
              "      <td>22281-080</td>\n",
              "      <td>Rio de Janeiro</td>\n",
              "      <td>22281-080</td>\n",
              "      <td>Rio de Janeiro</td>\n",
              "      <td>2020-01-02</td>\n",
              "      <td>1000000</td>\n",
              "      <td>0.0</td>\n",
              "    </tr>\n",
              "    <tr>\n",
              "      <th>3</th>\n",
              "      <td>1.202</td>\n",
              "      <td>1690</td>\n",
              "      <td>BR</td>\n",
              "      <td>20291830</td>\n",
              "      <td>Althaia S.A. Industria Farmacêutica</td>\n",
              "      <td>MB022</td>\n",
              "      <td>14055--47------N</td>\n",
              "      <td>Microbiology</td>\n",
              "      <td>NKS Standard TTC, meio de cultura desidratado,...</td>\n",
              "      <td>0</td>\n",
              "      <td>0.0</td>\n",
              "      <td>5</td>\n",
              "      <td>1901.33</td>\n",
              "      <td>1690-2</td>\n",
              "      <td>20291830</td>\n",
              "      <td>Althaia S.A. Industria Farmacêutica</td>\n",
              "      <td>12952-820</td>\n",
              "      <td>Atibaia</td>\n",
              "      <td>05564-000</td>\n",
              "      <td>São Paulo</td>\n",
              "      <td>2020-01-02</td>\n",
              "      <td>1000000</td>\n",
              "      <td>0.0</td>\n",
              "    </tr>\n",
              "    <tr>\n",
              "      <th>4</th>\n",
              "      <td>1.202</td>\n",
              "      <td>1690</td>\n",
              "      <td>BR</td>\n",
              "      <td>20291830</td>\n",
              "      <td>Althaia S.A. Industria Farmacêutica</td>\n",
              "      <td>MB022</td>\n",
              "      <td>14075--47------N</td>\n",
              "      <td>Microbiology</td>\n",
              "      <td>NKS Cetrimide, meio de cultura, estéreis cx c/...</td>\n",
              "      <td>0</td>\n",
              "      <td>0.0</td>\n",
              "      <td>3</td>\n",
              "      <td>1445.11</td>\n",
              "      <td>1690-2</td>\n",
              "      <td>20291830</td>\n",
              "      <td>Althaia S.A. Industria Farmacêutica</td>\n",
              "      <td>12952-820</td>\n",
              "      <td>Atibaia</td>\n",
              "      <td>05564-000</td>\n",
              "      <td>São Paulo</td>\n",
              "      <td>2020-01-02</td>\n",
              "      <td>1000000</td>\n",
              "      <td>0.0</td>\n",
              "    </tr>\n",
              "  </tbody>\n",
              "</table>\n",
              "</div>"
            ],
            "text/plain": [
              "   Month  Sales Org  ...    Meta   n_missing_linha_mes_ano\n",
              "0  1.202       1690  ...  1000000                      0.0\n",
              "1  1.202       1690  ...  1000000                      0.0\n",
              "2  1.202       1690  ...  1000000                      0.0\n",
              "3  1.202       1690  ...  1000000                      0.0\n",
              "4  1.202       1690  ...  1000000                      0.0\n",
              "\n",
              "[5 rows x 23 columns]"
            ]
          },
          "metadata": {},
          "execution_count": 13
        }
      ]
    },
    {
      "cell_type": "code",
      "metadata": {
        "id": "JY9QQtCbfZBF",
        "colab": {
          "base_uri": "https://localhost:8080/",
          "height": 375
        },
        "outputId": "0308224d-43b3-4753-b00b-3c32e097cc9b"
      },
      "source": [
        "# Analyzing which records have some missing data\n",
        "df1.loc[df1['n_missing_linha_mes_ano'] > 0 ]"
      ],
      "execution_count": null,
      "outputs": [
        {
          "output_type": "execute_result",
          "data": {
            "text/html": [
              "<div>\n",
              "<style scoped>\n",
              "    .dataframe tbody tr th:only-of-type {\n",
              "        vertical-align: middle;\n",
              "    }\n",
              "\n",
              "    .dataframe tbody tr th {\n",
              "        vertical-align: top;\n",
              "    }\n",
              "\n",
              "    .dataframe thead th {\n",
              "        text-align: right;\n",
              "    }\n",
              "</style>\n",
              "<table border=\"1\" class=\"dataframe\">\n",
              "  <thead>\n",
              "    <tr style=\"text-align: right;\">\n",
              "      <th></th>\n",
              "      <th>Month</th>\n",
              "      <th>Sales Org</th>\n",
              "      <th>Country of goods received</th>\n",
              "      <th>CardCode</th>\n",
              "      <th>CardName</th>\n",
              "      <th>Material group (WAGR)</th>\n",
              "      <th>ItemCode</th>\n",
              "      <th>BA</th>\n",
              "      <th>Dscription</th>\n",
              "      <th>Qty STM</th>\n",
              "      <th>Value STM</th>\n",
              "      <th>Order intake QTY</th>\n",
              "      <th>Order intake Value</th>\n",
              "      <th>Representative</th>\n",
              "      <th>Customer no. (Ship-to Party)</th>\n",
              "      <th>Customer name (Ship-to party)</th>\n",
              "      <th>Postal code sold to party</th>\n",
              "      <th>City sold to party</th>\n",
              "      <th>Postal code ship to party</th>\n",
              "      <th>City ship to party</th>\n",
              "      <th>CalENDerday</th>\n",
              "      <th>Meta</th>\n",
              "      <th>n_missing_linha_mes_ano</th>\n",
              "    </tr>\n",
              "  </thead>\n",
              "  <tbody>\n",
              "    <tr>\n",
              "      <th>88</th>\n",
              "      <td>1.202</td>\n",
              "      <td>1690</td>\n",
              "      <td>BR</td>\n",
              "      <td>20294700</td>\n",
              "      <td>Instituto de Tecnologia e Desen.  Econom. e So...</td>\n",
              "      <td>WBCBO</td>\n",
              "      <td>QUINTIX125D-1OBR</td>\n",
              "      <td>Lab Weighing</td>\n",
              "      <td>Lab Balance 60_120 g_ 0.01 _0.1 mg</td>\n",
              "      <td>0</td>\n",
              "      <td>0.0</td>\n",
              "      <td>1</td>\n",
              "      <td>13095.0</td>\n",
              "      <td>1690-32</td>\n",
              "      <td>20294700</td>\n",
              "      <td>Instituto de Tecnologia e Desen.  Econom. e So...</td>\n",
              "      <td>86061-335</td>\n",
              "      <td>NaN</td>\n",
              "      <td>86061-335</td>\n",
              "      <td>NaN</td>\n",
              "      <td>2020-01-15</td>\n",
              "      <td>1000000</td>\n",
              "      <td>0.090909</td>\n",
              "    </tr>\n",
              "    <tr>\n",
              "      <th>732</th>\n",
              "      <td>1.202</td>\n",
              "      <td>1690</td>\n",
              "      <td>BR</td>\n",
              "      <td>20294700</td>\n",
              "      <td>Instituto de Tecnologia e Desen.  Econom. e So...</td>\n",
              "      <td>WBCBO</td>\n",
              "      <td>QUINTIX125D-1OBR</td>\n",
              "      <td>Lab Weighing</td>\n",
              "      <td>Lab Balance 60_120 g_ 0.01 _0.1 mg</td>\n",
              "      <td>1</td>\n",
              "      <td>13095.0</td>\n",
              "      <td>0</td>\n",
              "      <td>0.0</td>\n",
              "      <td>1690-32</td>\n",
              "      <td>20294700</td>\n",
              "      <td>Instituto de Tecnologia e Desen.  Econom. e So...</td>\n",
              "      <td>86061-335</td>\n",
              "      <td>NaN</td>\n",
              "      <td>86061-335</td>\n",
              "      <td>NaN</td>\n",
              "      <td>2020-01-17</td>\n",
              "      <td>1000000</td>\n",
              "      <td>0.090909</td>\n",
              "    </tr>\n",
              "  </tbody>\n",
              "</table>\n",
              "</div>"
            ],
            "text/plain": [
              "     Month  Sales Org  ...    Meta   n_missing_linha_mes_ano\n",
              "88   1.202       1690  ...  1000000                 0.090909\n",
              "732  1.202       1690  ...  1000000                 0.090909\n",
              "\n",
              "[2 rows x 23 columns]"
            ]
          },
          "metadata": {},
          "execution_count": 14
        }
      ]
    },
    {
      "cell_type": "markdown",
      "metadata": {
        "id": "kIY5vufcrpbp"
      },
      "source": [
        "## Outliers "
      ]
    },
    {
      "cell_type": "code",
      "metadata": {
        "id": "CFXYGXx_sTd6"
      },
      "source": [
        "df2 = df1[['Qty STM','Value STM',]]"
      ],
      "execution_count": null,
      "outputs": []
    },
    {
      "cell_type": "code",
      "metadata": {
        "colab": {
          "base_uri": "https://localhost:8080/"
        },
        "id": "0ORXewkRrouy",
        "outputId": "a0400a79-ac0c-47f5-baa2-65ffde8089a0"
      },
      "source": [
        "# Performing the z-score transformation with the dataframe that we manipulated with the media\n",
        "df_z_score = df2.apply(stats.zscore)\n",
        "df_z_score.head()"
      ],
      "execution_count": null,
      "outputs": [
        {
          "output_type": "execute_result",
          "data": {
            "text/html": [
              "<div>\n",
              "<style scoped>\n",
              "    .dataframe tbody tr th:only-of-type {\n",
              "        vertical-align: middle;\n",
              "    }\n",
              "\n",
              "    .dataframe tbody tr th {\n",
              "        vertical-align: top;\n",
              "    }\n",
              "\n",
              "    .dataframe thead th {\n",
              "        text-align: right;\n",
              "    }\n",
              "</style>\n",
              "<table border=\"1\" class=\"dataframe\">\n",
              "  <thead>\n",
              "    <tr style=\"text-align: right;\">\n",
              "      <th></th>\n",
              "      <th>Qty STM</th>\n",
              "      <th>Value STM</th>\n",
              "    </tr>\n",
              "  </thead>\n",
              "  <tbody>\n",
              "    <tr>\n",
              "      <th>0</th>\n",
              "      <td>-0.277894</td>\n",
              "      <td>-0.130477</td>\n",
              "    </tr>\n",
              "    <tr>\n",
              "      <th>1</th>\n",
              "      <td>-0.277894</td>\n",
              "      <td>-0.130477</td>\n",
              "    </tr>\n",
              "    <tr>\n",
              "      <th>2</th>\n",
              "      <td>-0.277894</td>\n",
              "      <td>-0.130477</td>\n",
              "    </tr>\n",
              "    <tr>\n",
              "      <th>3</th>\n",
              "      <td>-0.277894</td>\n",
              "      <td>-0.130477</td>\n",
              "    </tr>\n",
              "    <tr>\n",
              "      <th>4</th>\n",
              "      <td>-0.277894</td>\n",
              "      <td>-0.130477</td>\n",
              "    </tr>\n",
              "  </tbody>\n",
              "</table>\n",
              "</div>"
            ],
            "text/plain": [
              "    Qty STM  Value STM\n",
              "0 -0.277894  -0.130477\n",
              "1 -0.277894  -0.130477\n",
              "2 -0.277894  -0.130477\n",
              "3 -0.277894  -0.130477\n",
              "4 -0.277894  -0.130477"
            ]
          },
          "metadata": {},
          "execution_count": 16
        }
      ]
    },
    {
      "cell_type": "code",
      "metadata": {
        "id": "BUlYYskXtbJL"
      },
      "source": [
        "# Creating a dataframe with the columns and rows (year and month) that had a z-score above 3\n",
        "z_score_maior_3 = df_z_score[df_z_score.iloc[:,0:2] > 3]"
      ],
      "execution_count": null,
      "outputs": []
    },
    {
      "cell_type": "code",
      "metadata": {
        "id": "Dsq6cA4rt16g"
      },
      "source": [
        "df_index = z_score_maior_3.dropna(how='all')"
      ],
      "execution_count": null,
      "outputs": []
    },
    {
      "cell_type": "code",
      "metadata": {
        "colab": {
          "base_uri": "https://localhost:8080/"
        },
        "id": "f_PTc1PrtxS7",
        "outputId": "d091f976-bb4c-459b-fb6f-dfae25f43701"
      },
      "source": [
        "index = df_index.index\n",
        "index"
      ],
      "execution_count": null,
      "outputs": [
        {
          "output_type": "execute_result",
          "data": {
            "text/plain": [
              "Int64Index([ 447,  604,  625,  656,  657,  665,  675,  690,  754,  755,  756,\n",
              "             757,  759,  760,  761,  783,  810,  812,  924, 1430, 1508, 1512,\n",
              "            1577, 1635, 1693, 1741, 1747, 2368, 2447, 2464, 2515, 2524, 2530,\n",
              "            2533, 2543, 2556, 2614, 2624, 2637, 2639, 2662, 2684, 2691, 3142,\n",
              "            3203, 3208, 3309, 3356, 3368, 3370, 3393, 3418, 3438, 3471],\n",
              "           dtype='int64')"
            ]
          },
          "metadata": {},
          "execution_count": 19
        }
      ]
    },
    {
      "cell_type": "code",
      "metadata": {
        "colab": {
          "base_uri": "https://localhost:8080/"
        },
        "id": "d-loS3fXtmiz",
        "outputId": "36b81d45-04d4-4fdf-c642-db6ee1b224f6"
      },
      "source": [
        "# Records that had outliers with z-score > 3\n",
        "df1.iloc[index]"
      ],
      "execution_count": null,
      "outputs": [
        {
          "output_type": "execute_result",
          "data": {
            "text/html": [
              "<div>\n",
              "<style scoped>\n",
              "    .dataframe tbody tr th:only-of-type {\n",
              "        vertical-align: middle;\n",
              "    }\n",
              "\n",
              "    .dataframe tbody tr th {\n",
              "        vertical-align: top;\n",
              "    }\n",
              "\n",
              "    .dataframe thead th {\n",
              "        text-align: right;\n",
              "    }\n",
              "</style>\n",
              "<table border=\"1\" class=\"dataframe\">\n",
              "  <thead>\n",
              "    <tr style=\"text-align: right;\">\n",
              "      <th></th>\n",
              "      <th>Month</th>\n",
              "      <th>Sales Org</th>\n",
              "      <th>Country of goods received</th>\n",
              "      <th>CardCode</th>\n",
              "      <th>CardName</th>\n",
              "      <th>Material group (WAGR)</th>\n",
              "      <th>ItemCode</th>\n",
              "      <th>BA</th>\n",
              "      <th>Dscription</th>\n",
              "      <th>Qty STM</th>\n",
              "      <th>Value STM</th>\n",
              "      <th>Order intake QTY</th>\n",
              "      <th>Order intake Value</th>\n",
              "      <th>Representative</th>\n",
              "      <th>Customer no. (Ship-to Party)</th>\n",
              "      <th>Customer name (Ship-to party)</th>\n",
              "      <th>Postal code sold to party</th>\n",
              "      <th>City sold to party</th>\n",
              "      <th>Postal code ship to party</th>\n",
              "      <th>City ship to party</th>\n",
              "      <th>CalENDerday</th>\n",
              "      <th>Meta</th>\n",
              "      <th>n_missing_linha_mes_ano</th>\n",
              "    </tr>\n",
              "  </thead>\n",
              "  <tbody>\n",
              "    <tr>\n",
              "      <th>447</th>\n",
              "      <td>1.202</td>\n",
              "      <td>1690</td>\n",
              "      <td>BR</td>\n",
              "      <td>20292149</td>\n",
              "      <td>Fundação Butantan</td>\n",
              "      <td>WMC1</td>\n",
              "      <td>84JMP01</td>\n",
              "      <td>Services Lab Essentials</td>\n",
              "      <td>Calibração RBC micropipeta automática mecânica...</td>\n",
              "      <td>153</td>\n",
              "      <td>8421.56</td>\n",
              "      <td>0</td>\n",
              "      <td>0.0</td>\n",
              "      <td>1690-13</td>\n",
              "      <td>20292149</td>\n",
              "      <td>Fundação Butantan</td>\n",
              "      <td>05503-000</td>\n",
              "      <td>São Paulo</td>\n",
              "      <td>05503-000</td>\n",
              "      <td>São Paulo</td>\n",
              "      <td>2020-01-17</td>\n",
              "      <td>1000000</td>\n",
              "      <td>0.0</td>\n",
              "    </tr>\n",
              "    <tr>\n",
              "      <th>604</th>\n",
              "      <td>1.202</td>\n",
              "      <td>1690</td>\n",
              "      <td>BR</td>\n",
              "      <td>20322428</td>\n",
              "      <td>Labtalc Materiais e Serviços para Laboratorios...</td>\n",
              "      <td>MB000</td>\n",
              "      <td>11406--47----ACN</td>\n",
              "      <td>Microbiology</td>\n",
              "      <td>Filtro de membrana de nitrato de celulose, est...</td>\n",
              "      <td>30</td>\n",
              "      <td>2649.60</td>\n",
              "      <td>0</td>\n",
              "      <td>0.0</td>\n",
              "      <td>1690-33</td>\n",
              "      <td>20322428</td>\n",
              "      <td>Labtalc Materiais e Serviços para Laboratorios...</td>\n",
              "      <td>13073-076</td>\n",
              "      <td>Campinas</td>\n",
              "      <td>13073-076</td>\n",
              "      <td>Campinas</td>\n",
              "      <td>2020-01-08</td>\n",
              "      <td>1000000</td>\n",
              "      <td>0.0</td>\n",
              "    </tr>\n",
              "    <tr>\n",
              "      <th>625</th>\n",
              "      <td>1.202</td>\n",
              "      <td>1690</td>\n",
              "      <td>BR</td>\n",
              "      <td>20291553</td>\n",
              "      <td>St. Jude Medical Brasil LTDA</td>\n",
              "      <td>MB034</td>\n",
              "      <td>16D01--10-H6--TG</td>\n",
              "      <td>Microbiology</td>\n",
              "      <td>Microsart filter 100. Pacote com 24 unidades</td>\n",
              "      <td>36</td>\n",
              "      <td>14664.21</td>\n",
              "      <td>0</td>\n",
              "      <td>0.0</td>\n",
              "      <td>1690-24</td>\n",
              "      <td>20291553</td>\n",
              "      <td>St. Jude Medical Brasil LTDA</td>\n",
              "      <td>31310-260</td>\n",
              "      <td>Belo Horizonte</td>\n",
              "      <td>31310-260</td>\n",
              "      <td>Belo Horizonte</td>\n",
              "      <td>2020-01-09</td>\n",
              "      <td>1000000</td>\n",
              "      <td>0.0</td>\n",
              "    </tr>\n",
              "    <tr>\n",
              "      <th>656</th>\n",
              "      <td>1.202</td>\n",
              "      <td>1690</td>\n",
              "      <td>BR</td>\n",
              "      <td>20292449</td>\n",
              "      <td>Fresenius Medical Care Ltda.</td>\n",
              "      <td>MB000</td>\n",
              "      <td>11406Z-47----SCM</td>\n",
              "      <td>Microbiology</td>\n",
              "      <td>Filtro de Membrana de nitrato de celulose, est...</td>\n",
              "      <td>30</td>\n",
              "      <td>11926.42</td>\n",
              "      <td>0</td>\n",
              "      <td>0.0</td>\n",
              "      <td>1690-30</td>\n",
              "      <td>20292449</td>\n",
              "      <td>Fresenius Medical Care Ltda.</td>\n",
              "      <td>13820-000</td>\n",
              "      <td>Jaguariúna</td>\n",
              "      <td>13820-000</td>\n",
              "      <td>Jaguariúna</td>\n",
              "      <td>2020-01-13</td>\n",
              "      <td>1000000</td>\n",
              "      <td>0.0</td>\n",
              "    </tr>\n",
              "    <tr>\n",
              "      <th>657</th>\n",
              "      <td>1.202</td>\n",
              "      <td>1690</td>\n",
              "      <td>BR</td>\n",
              "      <td>20292449</td>\n",
              "      <td>Fresenius Medical Care Ltda.</td>\n",
              "      <td>MB000</td>\n",
              "      <td>11406Z-47----SCM</td>\n",
              "      <td>Microbiology</td>\n",
              "      <td>Filtro de Membrana de nitrato de celulose, est...</td>\n",
              "      <td>30</td>\n",
              "      <td>11926.42</td>\n",
              "      <td>0</td>\n",
              "      <td>0.0</td>\n",
              "      <td>1690-30</td>\n",
              "      <td>20292449</td>\n",
              "      <td>Fresenius Medical Care Ltda.</td>\n",
              "      <td>13820-000</td>\n",
              "      <td>Jaguariúna</td>\n",
              "      <td>13820-000</td>\n",
              "      <td>Jaguariúna</td>\n",
              "      <td>2020-01-13</td>\n",
              "      <td>1000000</td>\n",
              "      <td>0.0</td>\n",
              "    </tr>\n",
              "    <tr>\n",
              "      <th>665</th>\n",
              "      <td>1.202</td>\n",
              "      <td>1690</td>\n",
              "      <td>BR</td>\n",
              "      <td>20292145</td>\n",
              "      <td>Fundação de Amparo a Pesquisa do Estado de São...</td>\n",
              "      <td>WV127</td>\n",
              "      <td>790352</td>\n",
              "      <td>Liquid Handling</td>\n",
              "      <td>Refil com ponteiras de 350 ul (10x96)</td>\n",
              "      <td>40</td>\n",
              "      <td>5604.72</td>\n",
              "      <td>0</td>\n",
              "      <td>0.0</td>\n",
              "      <td>1690-39</td>\n",
              "      <td>20292145</td>\n",
              "      <td>Fundação de Amparo a Pesquisa do Estado de São...</td>\n",
              "      <td>05468-901</td>\n",
              "      <td>São Paulo</td>\n",
              "      <td>05468-901</td>\n",
              "      <td>São Paulo</td>\n",
              "      <td>2020-01-13</td>\n",
              "      <td>1000000</td>\n",
              "      <td>0.0</td>\n",
              "    </tr>\n",
              "    <tr>\n",
              "      <th>675</th>\n",
              "      <td>1.202</td>\n",
              "      <td>1690</td>\n",
              "      <td>BR</td>\n",
              "      <td>20322428</td>\n",
              "      <td>Labtalc Materiais e Serviços para Laboratorios...</td>\n",
              "      <td>MB000</td>\n",
              "      <td>11406--47----ACN</td>\n",
              "      <td>Microbiology</td>\n",
              "      <td>Filtro de membrana de nitrato de celulose, est...</td>\n",
              "      <td>50</td>\n",
              "      <td>4416.00</td>\n",
              "      <td>0</td>\n",
              "      <td>0.0</td>\n",
              "      <td>1690-33</td>\n",
              "      <td>20322428</td>\n",
              "      <td>Labtalc Materiais e Serviços para Laboratorios...</td>\n",
              "      <td>13073-076</td>\n",
              "      <td>Campinas</td>\n",
              "      <td>13073-076</td>\n",
              "      <td>Campinas</td>\n",
              "      <td>2020-01-14</td>\n",
              "      <td>1000000</td>\n",
              "      <td>0.0</td>\n",
              "    </tr>\n",
              "    <tr>\n",
              "      <th>690</th>\n",
              "      <td>1.202</td>\n",
              "      <td>1690</td>\n",
              "      <td>BR</td>\n",
              "      <td>20292093</td>\n",
              "      <td>Ceva Veterinária Ltda</td>\n",
              "      <td>PCB21</td>\n",
              "      <td>5232707H1----P</td>\n",
              "      <td>Filtration</td>\n",
              "      <td>Cartucho filtrante Sartobran P. Membrana em Ac...</td>\n",
              "      <td>30</td>\n",
              "      <td>25634.62</td>\n",
              "      <td>0</td>\n",
              "      <td>0.0</td>\n",
              "      <td>1690-24</td>\n",
              "      <td>20292093</td>\n",
              "      <td>Ceva Veterinária Ltda</td>\n",
              "      <td>35675-000</td>\n",
              "      <td>Juatuba</td>\n",
              "      <td>35675-000</td>\n",
              "      <td>Juatuba</td>\n",
              "      <td>2020-01-15</td>\n",
              "      <td>1000000</td>\n",
              "      <td>0.0</td>\n",
              "    </tr>\n",
              "    <tr>\n",
              "      <th>754</th>\n",
              "      <td>1.202</td>\n",
              "      <td>1690</td>\n",
              "      <td>BR</td>\n",
              "      <td>20291662</td>\n",
              "      <td>Bionovis S.A. ­ Companhia Brasileira de Biotec...</td>\n",
              "      <td>PF62</td>\n",
              "      <td>16389-001</td>\n",
              "      <td>Fluid Management</td>\n",
              "      <td>Holder para tubos de 3/8 ID + 5/8 OD, fornecid...</td>\n",
              "      <td>7</td>\n",
              "      <td>49515.02</td>\n",
              "      <td>0</td>\n",
              "      <td>0.0</td>\n",
              "      <td>1690-3</td>\n",
              "      <td>20291662</td>\n",
              "      <td>Bionovis S.A. ­ Companhia Brasileira de Biotec...</td>\n",
              "      <td>13278-530</td>\n",
              "      <td>Valinhos</td>\n",
              "      <td>13278-530</td>\n",
              "      <td>Valinhos</td>\n",
              "      <td>2020-01-22</td>\n",
              "      <td>1000000</td>\n",
              "      <td>0.0</td>\n",
              "    </tr>\n",
              "    <tr>\n",
              "      <th>755</th>\n",
              "      <td>1.202</td>\n",
              "      <td>1690</td>\n",
              "      <td>BR</td>\n",
              "      <td>20291662</td>\n",
              "      <td>Bionovis S.A. ­ Companhia Brasileira de Biotec...</td>\n",
              "      <td>PF62</td>\n",
              "      <td>16389-002</td>\n",
              "      <td>Fluid Management</td>\n",
              "      <td>Holder para BioWelder TC para tubos de 1/2pol ...</td>\n",
              "      <td>7</td>\n",
              "      <td>49515.02</td>\n",
              "      <td>0</td>\n",
              "      <td>0.0</td>\n",
              "      <td>1690-3</td>\n",
              "      <td>20291662</td>\n",
              "      <td>Bionovis S.A. ­ Companhia Brasileira de Biotec...</td>\n",
              "      <td>13278-530</td>\n",
              "      <td>Valinhos</td>\n",
              "      <td>13278-530</td>\n",
              "      <td>Valinhos</td>\n",
              "      <td>2020-01-22</td>\n",
              "      <td>1000000</td>\n",
              "      <td>0.0</td>\n",
              "    </tr>\n",
              "    <tr>\n",
              "      <th>756</th>\n",
              "      <td>1.202</td>\n",
              "      <td>1690</td>\n",
              "      <td>BR</td>\n",
              "      <td>20291662</td>\n",
              "      <td>Bionovis S.A. ­ Companhia Brasileira de Biotec...</td>\n",
              "      <td>PF62</td>\n",
              "      <td>16389-011</td>\n",
              "      <td>Fluid Management</td>\n",
              "      <td>Holder para BioWelder TC para tubos de 1/4pol ...</td>\n",
              "      <td>7</td>\n",
              "      <td>49515.02</td>\n",
              "      <td>0</td>\n",
              "      <td>0.0</td>\n",
              "      <td>1690-3</td>\n",
              "      <td>20291662</td>\n",
              "      <td>Bionovis S.A. ­ Companhia Brasileira de Biotec...</td>\n",
              "      <td>13278-530</td>\n",
              "      <td>Valinhos</td>\n",
              "      <td>13278-530</td>\n",
              "      <td>Valinhos</td>\n",
              "      <td>2020-01-22</td>\n",
              "      <td>1000000</td>\n",
              "      <td>0.0</td>\n",
              "    </tr>\n",
              "    <tr>\n",
              "      <th>757</th>\n",
              "      <td>1.202</td>\n",
              "      <td>1690</td>\n",
              "      <td>BR</td>\n",
              "      <td>20291662</td>\n",
              "      <td>Bionovis S.A. ­ Companhia Brasileira de Biotec...</td>\n",
              "      <td>PF62</td>\n",
              "      <td>16389-009</td>\n",
              "      <td>Fluid Management</td>\n",
              "      <td>Holder para BioWelder TC para tubos de 1/8pol ...</td>\n",
              "      <td>7</td>\n",
              "      <td>49515.02</td>\n",
              "      <td>0</td>\n",
              "      <td>0.0</td>\n",
              "      <td>1690-3</td>\n",
              "      <td>20291662</td>\n",
              "      <td>Bionovis S.A. ­ Companhia Brasileira de Biotec...</td>\n",
              "      <td>13278-530</td>\n",
              "      <td>Valinhos</td>\n",
              "      <td>13278-530</td>\n",
              "      <td>Valinhos</td>\n",
              "      <td>2020-01-22</td>\n",
              "      <td>1000000</td>\n",
              "      <td>0.0</td>\n",
              "    </tr>\n",
              "    <tr>\n",
              "      <th>759</th>\n",
              "      <td>1.202</td>\n",
              "      <td>1690</td>\n",
              "      <td>BR</td>\n",
              "      <td>20291662</td>\n",
              "      <td>Bionovis S.A. ­ Companhia Brasileira de Biotec...</td>\n",
              "      <td>PF58</td>\n",
              "      <td>16389</td>\n",
              "      <td>Fluid Management</td>\n",
              "      <td>BioWelder Total Containment, marca Sartorius S...</td>\n",
              "      <td>7</td>\n",
              "      <td>760500.66</td>\n",
              "      <td>0</td>\n",
              "      <td>0.0</td>\n",
              "      <td>1690-3</td>\n",
              "      <td>20291662</td>\n",
              "      <td>Bionovis S.A. ­ Companhia Brasileira de Biotec...</td>\n",
              "      <td>13278-530</td>\n",
              "      <td>Valinhos</td>\n",
              "      <td>13278-530</td>\n",
              "      <td>Valinhos</td>\n",
              "      <td>2020-01-22</td>\n",
              "      <td>1000000</td>\n",
              "      <td>0.0</td>\n",
              "    </tr>\n",
              "    <tr>\n",
              "      <th>760</th>\n",
              "      <td>1.202</td>\n",
              "      <td>1690</td>\n",
              "      <td>BR</td>\n",
              "      <td>20291662</td>\n",
              "      <td>Bionovis S.A. ­ Companhia Brasileira de Biotec...</td>\n",
              "      <td>PF62</td>\n",
              "      <td>16389-004</td>\n",
              "      <td>Fluid Management</td>\n",
              "      <td>Holder para BioWelder TC para tubos de 3/4pol ...</td>\n",
              "      <td>7</td>\n",
              "      <td>49515.02</td>\n",
              "      <td>0</td>\n",
              "      <td>0.0</td>\n",
              "      <td>1690-3</td>\n",
              "      <td>20291662</td>\n",
              "      <td>Bionovis S.A. ­ Companhia Brasileira de Biotec...</td>\n",
              "      <td>13278-530</td>\n",
              "      <td>Valinhos</td>\n",
              "      <td>13278-530</td>\n",
              "      <td>Valinhos</td>\n",
              "      <td>2020-01-22</td>\n",
              "      <td>1000000</td>\n",
              "      <td>0.0</td>\n",
              "    </tr>\n",
              "    <tr>\n",
              "      <th>761</th>\n",
              "      <td>1.202</td>\n",
              "      <td>1690</td>\n",
              "      <td>BR</td>\n",
              "      <td>20291662</td>\n",
              "      <td>Bionovis S.A. ­ Companhia Brasileira de Biotec...</td>\n",
              "      <td>PF62</td>\n",
              "      <td>16389-010</td>\n",
              "      <td>Fluid Management</td>\n",
              "      <td>Holder para BioWelder TC para tubos de 1/4pol ...</td>\n",
              "      <td>7</td>\n",
              "      <td>49515.02</td>\n",
              "      <td>0</td>\n",
              "      <td>0.0</td>\n",
              "      <td>1690-3</td>\n",
              "      <td>20291662</td>\n",
              "      <td>Bionovis S.A. ­ Companhia Brasileira de Biotec...</td>\n",
              "      <td>13278-530</td>\n",
              "      <td>Valinhos</td>\n",
              "      <td>13278-530</td>\n",
              "      <td>Valinhos</td>\n",
              "      <td>2020-01-22</td>\n",
              "      <td>1000000</td>\n",
              "      <td>0.0</td>\n",
              "    </tr>\n",
              "    <tr>\n",
              "      <th>783</th>\n",
              "      <td>1.202</td>\n",
              "      <td>1690</td>\n",
              "      <td>BR</td>\n",
              "      <td>20290710</td>\n",
              "      <td>Oji Papeis Especiais LTDA</td>\n",
              "      <td>WLB0</td>\n",
              "      <td>6906941</td>\n",
              "      <td>Services Lab Essentials</td>\n",
              "      <td>Pad de fibra de Vidro 90mm (pacote com 200 uni...</td>\n",
              "      <td>30</td>\n",
              "      <td>15823.12</td>\n",
              "      <td>0</td>\n",
              "      <td>0.0</td>\n",
              "      <td>1690-29</td>\n",
              "      <td>20290710</td>\n",
              "      <td>Oji Papeis Especiais LTDA</td>\n",
              "      <td>13415-900</td>\n",
              "      <td>Piracicaba</td>\n",
              "      <td>13415-900</td>\n",
              "      <td>Piracicaba</td>\n",
              "      <td>2020-01-22</td>\n",
              "      <td>1000000</td>\n",
              "      <td>0.0</td>\n",
              "    </tr>\n",
              "    <tr>\n",
              "      <th>810</th>\n",
              "      <td>1.202</td>\n",
              "      <td>1690</td>\n",
              "      <td>BR</td>\n",
              "      <td>20291390</td>\n",
              "      <td>Souza Cruz LTDA.</td>\n",
              "      <td>LF006</td>\n",
              "      <td>FT-3-102-125</td>\n",
              "      <td>Lab Filtration</td>\n",
              "      <td>Papel filtro quantitativo, marca Sartorius, po...</td>\n",
              "      <td>85</td>\n",
              "      <td>5198.94</td>\n",
              "      <td>0</td>\n",
              "      <td>0.0</td>\n",
              "      <td>1690-36</td>\n",
              "      <td>20291390</td>\n",
              "      <td>Souza Cruz LTDA.</td>\n",
              "      <td>20091-900</td>\n",
              "      <td>Rio de Janeiro</td>\n",
              "      <td>94970-470</td>\n",
              "      <td>Cachoeirinha</td>\n",
              "      <td>2020-01-22</td>\n",
              "      <td>1000000</td>\n",
              "      <td>0.0</td>\n",
              "    </tr>\n",
              "    <tr>\n",
              "      <th>812</th>\n",
              "      <td>1.202</td>\n",
              "      <td>1690</td>\n",
              "      <td>BR</td>\n",
              "      <td>20291080</td>\n",
              "      <td>Libbs Farmacêutica LTDA.</td>\n",
              "      <td>PCCC4</td>\n",
              "      <td>5627305G3--SS</td>\n",
              "      <td>Filtration</td>\n",
              "      <td>Cápsula filtrante, modelo New MaxiCaps Sartocl...</td>\n",
              "      <td>18</td>\n",
              "      <td>53183.25</td>\n",
              "      <td>0</td>\n",
              "      <td>0.0</td>\n",
              "      <td>1690-3</td>\n",
              "      <td>20291079</td>\n",
              "      <td>Libbs Farmacêutica LTDA.</td>\n",
              "      <td>01140-050</td>\n",
              "      <td>São Paulo</td>\n",
              "      <td>06807-320</td>\n",
              "      <td>Embu</td>\n",
              "      <td>2020-01-22</td>\n",
              "      <td>1000000</td>\n",
              "      <td>0.0</td>\n",
              "    </tr>\n",
              "    <tr>\n",
              "      <th>924</th>\n",
              "      <td>1.202</td>\n",
              "      <td>1690</td>\n",
              "      <td>BR</td>\n",
              "      <td>20292257</td>\n",
              "      <td>HNK BR Bebidas LTDA.</td>\n",
              "      <td>MB000</td>\n",
              "      <td>11406--47----ACN</td>\n",
              "      <td>Microbiology</td>\n",
              "      <td>Filtro de membrana de nitrato de celulose, est...</td>\n",
              "      <td>50</td>\n",
              "      <td>4985.93</td>\n",
              "      <td>0</td>\n",
              "      <td>0.0</td>\n",
              "      <td>1690-30</td>\n",
              "      <td>20292257</td>\n",
              "      <td>HNK BR Bebidas LTDA.</td>\n",
              "      <td>13312-900</td>\n",
              "      <td>Itu</td>\n",
              "      <td>68795-000</td>\n",
              "      <td>Benevides</td>\n",
              "      <td>2020-01-29</td>\n",
              "      <td>1000000</td>\n",
              "      <td>0.0</td>\n",
              "    </tr>\n",
              "    <tr>\n",
              "      <th>1430</th>\n",
              "      <td>2.202</td>\n",
              "      <td>1690</td>\n",
              "      <td>BR</td>\n",
              "      <td>20292149</td>\n",
              "      <td>Fundação Butantan</td>\n",
              "      <td>LS059</td>\n",
              "      <td>84JMP01</td>\n",
              "      <td>Services Lab Essentials</td>\n",
              "      <td>Calibração RBC micropipeta automática mecânica...</td>\n",
              "      <td>133</td>\n",
              "      <td>7320.71</td>\n",
              "      <td>0</td>\n",
              "      <td>0.0</td>\n",
              "      <td>1690-13</td>\n",
              "      <td>20292149</td>\n",
              "      <td>Fundação Butantan</td>\n",
              "      <td>05503-000</td>\n",
              "      <td>São Paulo</td>\n",
              "      <td>05503-000</td>\n",
              "      <td>São Paulo</td>\n",
              "      <td>2020-02-06</td>\n",
              "      <td>1000000</td>\n",
              "      <td>0.0</td>\n",
              "    </tr>\n",
              "    <tr>\n",
              "      <th>1508</th>\n",
              "      <td>2.202</td>\n",
              "      <td>1690</td>\n",
              "      <td>BR</td>\n",
              "      <td>20292128</td>\n",
              "      <td>Fundação de Desenvolvimento da Pesquisa</td>\n",
              "      <td>LF006</td>\n",
              "      <td>FT-2-H182-580580</td>\n",
              "      <td>Lab Filtration</td>\n",
              "      <td>Papel em placas, grade H182, gramatura filtro ...</td>\n",
              "      <td>59</td>\n",
              "      <td>67670.85</td>\n",
              "      <td>0</td>\n",
              "      <td>0.0</td>\n",
              "      <td>1690-24</td>\n",
              "      <td>20292128</td>\n",
              "      <td>Fundação de Desenvolvimento da Pesquisa</td>\n",
              "      <td>31270-901</td>\n",
              "      <td>Belo Horizonte</td>\n",
              "      <td>31270-901</td>\n",
              "      <td>Belo Horizonte</td>\n",
              "      <td>2020-02-03</td>\n",
              "      <td>1000000</td>\n",
              "      <td>0.0</td>\n",
              "    </tr>\n",
              "    <tr>\n",
              "      <th>1512</th>\n",
              "      <td>2.202</td>\n",
              "      <td>1690</td>\n",
              "      <td>BR</td>\n",
              "      <td>20292060</td>\n",
              "      <td>Antibióticos do Brasil LTDA</td>\n",
              "      <td>PJ40</td>\n",
              "      <td>ATS-HEMIS</td>\n",
              "      <td>Fluid Management</td>\n",
              "      <td>Meia vestimenta de proteção para equipamento D...</td>\n",
              "      <td>2</td>\n",
              "      <td>86220.00</td>\n",
              "      <td>0</td>\n",
              "      <td>0.0</td>\n",
              "      <td>1690-3</td>\n",
              "      <td>20292060</td>\n",
              "      <td>Antibióticos do Brasil LTDA</td>\n",
              "      <td>13150-000</td>\n",
              "      <td>Cosmópolis</td>\n",
              "      <td>13150-000</td>\n",
              "      <td>Cosmópolis</td>\n",
              "      <td>2020-02-03</td>\n",
              "      <td>1000000</td>\n",
              "      <td>0.0</td>\n",
              "    </tr>\n",
              "    <tr>\n",
              "      <th>1577</th>\n",
              "      <td>2.202</td>\n",
              "      <td>1690</td>\n",
              "      <td>BR</td>\n",
              "      <td>20291080</td>\n",
              "      <td>Libbs Farmacêutica LTDA.</td>\n",
              "      <td>PCCC4</td>\n",
              "      <td>5627305G3--SS</td>\n",
              "      <td>Filtration</td>\n",
              "      <td>Cápsula filtrante, modelo New MaxiCaps Sartocl...</td>\n",
              "      <td>18</td>\n",
              "      <td>54527.58</td>\n",
              "      <td>0</td>\n",
              "      <td>0.0</td>\n",
              "      <td>1690-3</td>\n",
              "      <td>20291079</td>\n",
              "      <td>Libbs Farmacêutica LTDA.</td>\n",
              "      <td>01140-050</td>\n",
              "      <td>São Paulo</td>\n",
              "      <td>06807-320</td>\n",
              "      <td>Embu</td>\n",
              "      <td>2020-02-10</td>\n",
              "      <td>1000000</td>\n",
              "      <td>0.0</td>\n",
              "    </tr>\n",
              "    <tr>\n",
              "      <th>1635</th>\n",
              "      <td>2.202</td>\n",
              "      <td>1690</td>\n",
              "      <td>BR</td>\n",
              "      <td>20292384</td>\n",
              "      <td>Control Lab Comercio de Produtos para Laborato...</td>\n",
              "      <td>LF001</td>\n",
              "      <td>11106--47------N</td>\n",
              "      <td>Lab Filtration</td>\n",
              "      <td>Filtro de membrana de acetato de celulose, não...</td>\n",
              "      <td>30</td>\n",
              "      <td>3721.57</td>\n",
              "      <td>0</td>\n",
              "      <td>0.0</td>\n",
              "      <td>1690-33</td>\n",
              "      <td>20292384</td>\n",
              "      <td>Control Lab Comercio de Produtos para Laborato...</td>\n",
              "      <td>83010-600</td>\n",
              "      <td>São José dos Pinhais</td>\n",
              "      <td>83010-600</td>\n",
              "      <td>São José dos Pinhais</td>\n",
              "      <td>2020-02-13</td>\n",
              "      <td>1000000</td>\n",
              "      <td>0.0</td>\n",
              "    </tr>\n",
              "    <tr>\n",
              "      <th>1693</th>\n",
              "      <td>2.202</td>\n",
              "      <td>1690</td>\n",
              "      <td>BR</td>\n",
              "      <td>20291303</td>\n",
              "      <td>Gates do Brasil Industria e Comércio Ltda.</td>\n",
              "      <td>MB000</td>\n",
              "      <td>11406--47----ACN</td>\n",
              "      <td>Microbiology</td>\n",
              "      <td>Filtro de membrana de nitrato de celulose, est...</td>\n",
              "      <td>30</td>\n",
              "      <td>2521.80</td>\n",
              "      <td>0</td>\n",
              "      <td>0.0</td>\n",
              "      <td>1690-39</td>\n",
              "      <td>20291303</td>\n",
              "      <td>Gates do Brasil Industria e Comércio Ltda.</td>\n",
              "      <td>12306-090</td>\n",
              "      <td>Jacareí</td>\n",
              "      <td>12328-320</td>\n",
              "      <td>Jacareí</td>\n",
              "      <td>2020-02-19</td>\n",
              "      <td>1000000</td>\n",
              "      <td>0.0</td>\n",
              "    </tr>\n",
              "    <tr>\n",
              "      <th>1741</th>\n",
              "      <td>2.202</td>\n",
              "      <td>1690</td>\n",
              "      <td>BR</td>\n",
              "      <td>20303623</td>\n",
              "      <td>Spal Industria Brasileira de Bebidas S.A.</td>\n",
              "      <td>MB000</td>\n",
              "      <td>11406--47----ACN</td>\n",
              "      <td>Microbiology</td>\n",
              "      <td>Filtro de membrana de nitrato de celulose, est...</td>\n",
              "      <td>50</td>\n",
              "      <td>8184.25</td>\n",
              "      <td>0</td>\n",
              "      <td>0.0</td>\n",
              "      <td>1690-32</td>\n",
              "      <td>20303623</td>\n",
              "      <td>Spal Industria Brasileira de Bebidas S.A.</td>\n",
              "      <td>12321-150</td>\n",
              "      <td>Jacareí</td>\n",
              "      <td>88180-000</td>\n",
              "      <td>Antônio Carlos</td>\n",
              "      <td>2020-02-20</td>\n",
              "      <td>1000000</td>\n",
              "      <td>0.0</td>\n",
              "    </tr>\n",
              "    <tr>\n",
              "      <th>1747</th>\n",
              "      <td>2.202</td>\n",
              "      <td>1690</td>\n",
              "      <td>BR</td>\n",
              "      <td>20292257</td>\n",
              "      <td>HNK BR Bebidas LTDA.</td>\n",
              "      <td>MB000</td>\n",
              "      <td>11406--47----ACN</td>\n",
              "      <td>Microbiology</td>\n",
              "      <td>Filtro de membrana de nitrato de celulose, est...</td>\n",
              "      <td>30</td>\n",
              "      <td>3015.08</td>\n",
              "      <td>0</td>\n",
              "      <td>0.0</td>\n",
              "      <td>1690-30</td>\n",
              "      <td>20292257</td>\n",
              "      <td>HNK BR Bebidas LTDA.</td>\n",
              "      <td>13312-900</td>\n",
              "      <td>Itu</td>\n",
              "      <td>68795-000</td>\n",
              "      <td>Benevides</td>\n",
              "      <td>2020-02-21</td>\n",
              "      <td>1000000</td>\n",
              "      <td>0.0</td>\n",
              "    </tr>\n",
              "    <tr>\n",
              "      <th>2368</th>\n",
              "      <td>3.202</td>\n",
              "      <td>1690</td>\n",
              "      <td>BR</td>\n",
              "      <td>20292149</td>\n",
              "      <td>Fundação Butantan</td>\n",
              "      <td>LS059</td>\n",
              "      <td>84JMP01</td>\n",
              "      <td>Services Lab Essentials</td>\n",
              "      <td>Calibração RBC micropipeta automática mecânica...</td>\n",
              "      <td>152</td>\n",
              "      <td>8366.52</td>\n",
              "      <td>0</td>\n",
              "      <td>0.0</td>\n",
              "      <td>1690-13</td>\n",
              "      <td>20292149</td>\n",
              "      <td>Fundação Butantan</td>\n",
              "      <td>05503-000</td>\n",
              "      <td>São Paulo</td>\n",
              "      <td>05503-000</td>\n",
              "      <td>São Paulo</td>\n",
              "      <td>2020-03-12</td>\n",
              "      <td>1000000</td>\n",
              "      <td>0.0</td>\n",
              "    </tr>\n",
              "    <tr>\n",
              "      <th>2447</th>\n",
              "      <td>3.202</td>\n",
              "      <td>1690</td>\n",
              "      <td>BR</td>\n",
              "      <td>20292252</td>\n",
              "      <td>HNK BR Indústria de Bebidas LTDA.</td>\n",
              "      <td>MB000</td>\n",
              "      <td>11406--47----ACN</td>\n",
              "      <td>Microbiology</td>\n",
              "      <td>Filtro de membrana de nitrato de celulose, est...</td>\n",
              "      <td>40</td>\n",
              "      <td>4076.80</td>\n",
              "      <td>0</td>\n",
              "      <td>0.0</td>\n",
              "      <td>1690-30</td>\n",
              "      <td>20292247</td>\n",
              "      <td>HNK BR Indústria de Bebidas LTDA.</td>\n",
              "      <td>13312-900</td>\n",
              "      <td>Itu</td>\n",
              "      <td>72930-000</td>\n",
              "      <td>Alexânia</td>\n",
              "      <td>2020-03-02</td>\n",
              "      <td>1000000</td>\n",
              "      <td>0.0</td>\n",
              "    </tr>\n",
              "    <tr>\n",
              "      <th>2464</th>\n",
              "      <td>3.202</td>\n",
              "      <td>1690</td>\n",
              "      <td>BR</td>\n",
              "      <td>20292093</td>\n",
              "      <td>Ceva Veterinária Ltda</td>\n",
              "      <td>PCUG1</td>\n",
              "      <td>5552705P1</td>\n",
              "      <td>Filtration</td>\n",
              "      <td>Cartucho Sartopure GF Plus. Membrana em microf...</td>\n",
              "      <td>35</td>\n",
              "      <td>20646.50</td>\n",
              "      <td>0</td>\n",
              "      <td>0.0</td>\n",
              "      <td>1690-24</td>\n",
              "      <td>20292093</td>\n",
              "      <td>Ceva Veterinária Ltda</td>\n",
              "      <td>35675-000</td>\n",
              "      <td>Juatuba</td>\n",
              "      <td>35675-000</td>\n",
              "      <td>Juatuba</td>\n",
              "      <td>2020-03-03</td>\n",
              "      <td>1000000</td>\n",
              "      <td>0.0</td>\n",
              "    </tr>\n",
              "    <tr>\n",
              "      <th>2515</th>\n",
              "      <td>3.202</td>\n",
              "      <td>1690</td>\n",
              "      <td>BR</td>\n",
              "      <td>20291634</td>\n",
              "      <td>Casa Di Conti LTDA</td>\n",
              "      <td>MB000</td>\n",
              "      <td>11406--47----ACN</td>\n",
              "      <td>Microbiology</td>\n",
              "      <td>CN white - black, sterile, 0.45 Âµm</td>\n",
              "      <td>80</td>\n",
              "      <td>5969.04</td>\n",
              "      <td>0</td>\n",
              "      <td>0.0</td>\n",
              "      <td>1690-30</td>\n",
              "      <td>20291634</td>\n",
              "      <td>Casa Di Conti LTDA</td>\n",
              "      <td>19880-000</td>\n",
              "      <td>Cândido Mota</td>\n",
              "      <td>19880-000</td>\n",
              "      <td>Cândido Mota</td>\n",
              "      <td>2020-03-09</td>\n",
              "      <td>1000000</td>\n",
              "      <td>0.0</td>\n",
              "    </tr>\n",
              "    <tr>\n",
              "      <th>2524</th>\n",
              "      <td>3.202</td>\n",
              "      <td>1690</td>\n",
              "      <td>BR</td>\n",
              "      <td>20291303</td>\n",
              "      <td>Gates do Brasil Industria e Comércio Ltda.</td>\n",
              "      <td>MB000</td>\n",
              "      <td>11406--47----ACN</td>\n",
              "      <td>Microbiology</td>\n",
              "      <td>CN white - black, sterile, 0.45 Âµm</td>\n",
              "      <td>30</td>\n",
              "      <td>2521.80</td>\n",
              "      <td>0</td>\n",
              "      <td>0.0</td>\n",
              "      <td>1690-39</td>\n",
              "      <td>20291303</td>\n",
              "      <td>Gates do Brasil Industria e Comércio Ltda.</td>\n",
              "      <td>12306-090</td>\n",
              "      <td>Jacareí</td>\n",
              "      <td>12328-320</td>\n",
              "      <td>Jacareí</td>\n",
              "      <td>2020-03-09</td>\n",
              "      <td>1000000</td>\n",
              "      <td>0.0</td>\n",
              "    </tr>\n",
              "    <tr>\n",
              "      <th>2530</th>\n",
              "      <td>3.202</td>\n",
              "      <td>1690</td>\n",
              "      <td>BR</td>\n",
              "      <td>1687</td>\n",
              "      <td>Sartorius de Mexico SA de CV</td>\n",
              "      <td>PJA6</td>\n",
              "      <td>LT-DBTL021</td>\n",
              "      <td>Fluid Management</td>\n",
              "      <td>LevMixer Portable EU 230V triple latch</td>\n",
              "      <td>1</td>\n",
              "      <td>47379.00</td>\n",
              "      <td>0</td>\n",
              "      <td>0.0</td>\n",
              "      <td>1690-15</td>\n",
              "      <td>1687</td>\n",
              "      <td>Sartorius de Mexico SA de CV</td>\n",
              "      <td>99999999</td>\n",
              "      <td>Tepotzótlan</td>\n",
              "      <td>99999999</td>\n",
              "      <td>Tepotzótlan</td>\n",
              "      <td>2020-03-10</td>\n",
              "      <td>1000000</td>\n",
              "      <td>0.0</td>\n",
              "    </tr>\n",
              "    <tr>\n",
              "      <th>2533</th>\n",
              "      <td>3.202</td>\n",
              "      <td>1690</td>\n",
              "      <td>BR</td>\n",
              "      <td>20292093</td>\n",
              "      <td>Ceva Veterinária Ltda</td>\n",
              "      <td>PCB21</td>\n",
              "      <td>5232707H1----P</td>\n",
              "      <td>Filtration</td>\n",
              "      <td>Sartobran P Cartridge_0.2µm_10\"</td>\n",
              "      <td>65</td>\n",
              "      <td>55541.69</td>\n",
              "      <td>0</td>\n",
              "      <td>0.0</td>\n",
              "      <td>1690-24</td>\n",
              "      <td>20292093</td>\n",
              "      <td>Ceva Veterinária Ltda</td>\n",
              "      <td>35675-000</td>\n",
              "      <td>Juatuba</td>\n",
              "      <td>35675-000</td>\n",
              "      <td>Juatuba</td>\n",
              "      <td>2020-03-10</td>\n",
              "      <td>1000000</td>\n",
              "      <td>0.0</td>\n",
              "    </tr>\n",
              "    <tr>\n",
              "      <th>2543</th>\n",
              "      <td>3.202</td>\n",
              "      <td>1690</td>\n",
              "      <td>BR</td>\n",
              "      <td>20324913</td>\n",
              "      <td>MMCONEX Produtos para Saúde LTDA</td>\n",
              "      <td>LF020</td>\n",
              "      <td>S7575------FXOSK</td>\n",
              "      <td>Lab Filtration</td>\n",
              "      <td>MinisartSRP 0.2µm, 25mm PP eo-ster, 50pc</td>\n",
              "      <td>47</td>\n",
              "      <td>13201.84</td>\n",
              "      <td>0</td>\n",
              "      <td>0.0</td>\n",
              "      <td>1690-35</td>\n",
              "      <td>20324913</td>\n",
              "      <td>MMCONEX Produtos para Saúde LTDA</td>\n",
              "      <td>02516-010</td>\n",
              "      <td>São Paulo</td>\n",
              "      <td>02516-010</td>\n",
              "      <td>São Paulo</td>\n",
              "      <td>2020-03-11</td>\n",
              "      <td>1000000</td>\n",
              "      <td>0.0</td>\n",
              "    </tr>\n",
              "    <tr>\n",
              "      <th>2556</th>\n",
              "      <td>3.202</td>\n",
              "      <td>1690</td>\n",
              "      <td>BR</td>\n",
              "      <td>20290663</td>\n",
              "      <td>Novo Nordisk Produção Farmacêutica Do Brasil LTDA</td>\n",
              "      <td>WV183</td>\n",
              "      <td>780305</td>\n",
              "      <td>Liquid Handling</td>\n",
              "      <td>Ponteira de 100 - 5000ul, sem filtro, pré-este...</td>\n",
              "      <td>60</td>\n",
              "      <td>3321.02</td>\n",
              "      <td>0</td>\n",
              "      <td>0.0</td>\n",
              "      <td>1690-24</td>\n",
              "      <td>20290663</td>\n",
              "      <td>Novo Nordisk Produção Farmacêutica Do Brasil LTDA</td>\n",
              "      <td>39404-004</td>\n",
              "      <td>Montes Claros</td>\n",
              "      <td>39404-004</td>\n",
              "      <td>Montes Claros</td>\n",
              "      <td>2020-03-11</td>\n",
              "      <td>1000000</td>\n",
              "      <td>0.0</td>\n",
              "    </tr>\n",
              "    <tr>\n",
              "      <th>2614</th>\n",
              "      <td>3.202</td>\n",
              "      <td>1690</td>\n",
              "      <td>BR</td>\n",
              "      <td>20292060</td>\n",
              "      <td>Antibióticos do Brasil LTDA</td>\n",
              "      <td>PJ40</td>\n",
              "      <td>ATS-HEMIS</td>\n",
              "      <td>Fluid Management</td>\n",
              "      <td>Half Suit Divetex-color Granite.</td>\n",
              "      <td>4</td>\n",
              "      <td>172440.00</td>\n",
              "      <td>0</td>\n",
              "      <td>0.0</td>\n",
              "      <td>1690-3</td>\n",
              "      <td>20292060</td>\n",
              "      <td>Antibióticos do Brasil LTDA</td>\n",
              "      <td>13150-000</td>\n",
              "      <td>Cosmópolis</td>\n",
              "      <td>13150-000</td>\n",
              "      <td>Cosmópolis</td>\n",
              "      <td>2020-03-18</td>\n",
              "      <td>1000000</td>\n",
              "      <td>0.0</td>\n",
              "    </tr>\n",
              "    <tr>\n",
              "      <th>2624</th>\n",
              "      <td>3.202</td>\n",
              "      <td>1690</td>\n",
              "      <td>BR</td>\n",
              "      <td>20292110</td>\n",
              "      <td>Guerbet Produtos Radiológicos LTDA</td>\n",
              "      <td>PCUG1</td>\n",
              "      <td>5552505P1</td>\n",
              "      <td>Filtration</td>\n",
              "      <td>Sartopure GF+ Cartridge;0.65µm;10\"</td>\n",
              "      <td>50</td>\n",
              "      <td>30362.50</td>\n",
              "      <td>0</td>\n",
              "      <td>0.0</td>\n",
              "      <td>1690-20</td>\n",
              "      <td>20292110</td>\n",
              "      <td>Guerbet Produtos Radiológicos LTDA</td>\n",
              "      <td>22710-561</td>\n",
              "      <td>Rio de Janeiro</td>\n",
              "      <td>22710-561</td>\n",
              "      <td>Rio de Janeiro</td>\n",
              "      <td>2020-03-18</td>\n",
              "      <td>1000000</td>\n",
              "      <td>0.0</td>\n",
              "    </tr>\n",
              "    <tr>\n",
              "      <th>2637</th>\n",
              "      <td>3.202</td>\n",
              "      <td>1690</td>\n",
              "      <td>BR</td>\n",
              "      <td>20312162</td>\n",
              "      <td>Hidroquímica Engenharia e Laboratórios Socieda...</td>\n",
              "      <td>MB000</td>\n",
              "      <td>11406--47----ACN</td>\n",
              "      <td>Microbiology</td>\n",
              "      <td>CN white - black, sterile, 0.45 Âµm</td>\n",
              "      <td>30</td>\n",
              "      <td>1920.71</td>\n",
              "      <td>0</td>\n",
              "      <td>0.0</td>\n",
              "      <td>1690-31</td>\n",
              "      <td>20312162</td>\n",
              "      <td>Hidroquímica Engenharia e Laboratórios Socieda...</td>\n",
              "      <td>20250-450</td>\n",
              "      <td>Rio de Janeiro</td>\n",
              "      <td>20250-450</td>\n",
              "      <td>Rio de Janeiro</td>\n",
              "      <td>2020-03-19</td>\n",
              "      <td>1000000</td>\n",
              "      <td>0.0</td>\n",
              "    </tr>\n",
              "    <tr>\n",
              "      <th>2639</th>\n",
              "      <td>3.202</td>\n",
              "      <td>1690</td>\n",
              "      <td>BR</td>\n",
              "      <td>100025520</td>\n",
              "      <td>CEQNEP Central Manip Quimiot Ent e Parent Ltda.</td>\n",
              "      <td>LF019</td>\n",
              "      <td>16532----------K</td>\n",
              "      <td>Lab Filtration</td>\n",
              "      <td>Minisart, com membrana de polietersulfona, por...</td>\n",
              "      <td>30</td>\n",
              "      <td>4428.04</td>\n",
              "      <td>0</td>\n",
              "      <td>0.0</td>\n",
              "      <td>1690-32</td>\n",
              "      <td>100025520</td>\n",
              "      <td>CEQNEP Central Manip Quimiot Ent e Parent Ltda.</td>\n",
              "      <td>80430-160</td>\n",
              "      <td>Curitiba</td>\n",
              "      <td>80430-160</td>\n",
              "      <td>Curitiba</td>\n",
              "      <td>2020-03-20</td>\n",
              "      <td>1000000</td>\n",
              "      <td>0.0</td>\n",
              "    </tr>\n",
              "    <tr>\n",
              "      <th>2662</th>\n",
              "      <td>3.202</td>\n",
              "      <td>1690</td>\n",
              "      <td>BR</td>\n",
              "      <td>20292093</td>\n",
              "      <td>Ceva Veterinária Ltda</td>\n",
              "      <td>PCB21</td>\n",
              "      <td>5232707H1----P</td>\n",
              "      <td>Filtration</td>\n",
              "      <td>Sartobran P Cartridge_0.2µm_10\"</td>\n",
              "      <td>100</td>\n",
              "      <td>85448.75</td>\n",
              "      <td>0</td>\n",
              "      <td>0.0</td>\n",
              "      <td>1690-15</td>\n",
              "      <td>20292093</td>\n",
              "      <td>Ceva Veterinária Ltda</td>\n",
              "      <td>35675-000</td>\n",
              "      <td>Juatuba</td>\n",
              "      <td>35675-000</td>\n",
              "      <td>Juatuba</td>\n",
              "      <td>2020-03-23</td>\n",
              "      <td>1000000</td>\n",
              "      <td>0.0</td>\n",
              "    </tr>\n",
              "    <tr>\n",
              "      <th>2684</th>\n",
              "      <td>3.202</td>\n",
              "      <td>1690</td>\n",
              "      <td>BR</td>\n",
              "      <td>20291416</td>\n",
              "      <td>SGS Geosol Laboratórios LTDA</td>\n",
              "      <td>MB000</td>\n",
              "      <td>11406--47----ACN</td>\n",
              "      <td>Microbiology</td>\n",
              "      <td>CN white - black, sterile, 0.45 Âµm</td>\n",
              "      <td>200</td>\n",
              "      <td>19090.13</td>\n",
              "      <td>0</td>\n",
              "      <td>0.0</td>\n",
              "      <td>1690-24</td>\n",
              "      <td>20291416</td>\n",
              "      <td>SGS Geosol Laboratórios LTDA</td>\n",
              "      <td>33200-000</td>\n",
              "      <td>Vespasiano</td>\n",
              "      <td>33200-000</td>\n",
              "      <td>Vespasiano</td>\n",
              "      <td>2020-03-23</td>\n",
              "      <td>1000000</td>\n",
              "      <td>0.0</td>\n",
              "    </tr>\n",
              "    <tr>\n",
              "      <th>2691</th>\n",
              "      <td>3.202</td>\n",
              "      <td>1690</td>\n",
              "      <td>BR</td>\n",
              "      <td>20291482</td>\n",
              "      <td>União Química Farmacêutica Nacional S/A</td>\n",
              "      <td>WBABX</td>\n",
              "      <td>MCA</td>\n",
              "      <td>Lab Weighing</td>\n",
              "      <td>Cubis Advanced MCA</td>\n",
              "      <td>1</td>\n",
              "      <td>142200.00</td>\n",
              "      <td>0</td>\n",
              "      <td>0.0</td>\n",
              "      <td>1690-2</td>\n",
              "      <td>20291482</td>\n",
              "      <td>União Química Farmacêutica Nacional S/A</td>\n",
              "      <td>06900-000</td>\n",
              "      <td>Embu-Guaçu</td>\n",
              "      <td>06900-000</td>\n",
              "      <td>Embu-Guaçu</td>\n",
              "      <td>2020-03-23</td>\n",
              "      <td>1000000</td>\n",
              "      <td>0.0</td>\n",
              "    </tr>\n",
              "    <tr>\n",
              "      <th>3142</th>\n",
              "      <td>4.202</td>\n",
              "      <td>1690</td>\n",
              "      <td>BR</td>\n",
              "      <td>20292149</td>\n",
              "      <td>Fundação Butantan</td>\n",
              "      <td>LS059</td>\n",
              "      <td>84JMP01</td>\n",
              "      <td>Services Lab Essentials</td>\n",
              "      <td>Calibração RBC micropipeta automática mecânica...</td>\n",
              "      <td>81</td>\n",
              "      <td>4458.47</td>\n",
              "      <td>0</td>\n",
              "      <td>0.0</td>\n",
              "      <td>1690-13</td>\n",
              "      <td>20292149</td>\n",
              "      <td>Fundação Butantan</td>\n",
              "      <td>05503-000</td>\n",
              "      <td>São Paulo</td>\n",
              "      <td>05503-000</td>\n",
              "      <td>São Paulo</td>\n",
              "      <td>2020-04-17</td>\n",
              "      <td>1000000</td>\n",
              "      <td>0.0</td>\n",
              "    </tr>\n",
              "    <tr>\n",
              "      <th>3203</th>\n",
              "      <td>4.202</td>\n",
              "      <td>1690</td>\n",
              "      <td>BR</td>\n",
              "      <td>20292379</td>\n",
              "      <td>Control-Analises de Agua e Efluentes LTDA</td>\n",
              "      <td>MB000</td>\n",
              "      <td>11406--47----ACN</td>\n",
              "      <td>Microbiology</td>\n",
              "      <td>CN white - black, sterile, 0.45 Âµm</td>\n",
              "      <td>30</td>\n",
              "      <td>2544.73</td>\n",
              "      <td>0</td>\n",
              "      <td>0.0</td>\n",
              "      <td>1690-29</td>\n",
              "      <td>20292379</td>\n",
              "      <td>Control-Analises de Agua e Efluentes LTDA</td>\n",
              "      <td>78077-035</td>\n",
              "      <td>Cuiabá</td>\n",
              "      <td>78077-035</td>\n",
              "      <td>Cuiabá</td>\n",
              "      <td>2020-04-02</td>\n",
              "      <td>1000000</td>\n",
              "      <td>0.0</td>\n",
              "    </tr>\n",
              "    <tr>\n",
              "      <th>3208</th>\n",
              "      <td>4.202</td>\n",
              "      <td>1690</td>\n",
              "      <td>BR</td>\n",
              "      <td>20291941</td>\n",
              "      <td>ADM do Brasil LTDA</td>\n",
              "      <td>LS046</td>\n",
              "      <td>6906940</td>\n",
              "      <td>Services Lab Essentials</td>\n",
              "      <td>Suporte de fibra de vidro descartável para aná...</td>\n",
              "      <td>63</td>\n",
              "      <td>19587.34</td>\n",
              "      <td>0</td>\n",
              "      <td>0.0</td>\n",
              "      <td>1690-13</td>\n",
              "      <td>20291941</td>\n",
              "      <td>ADM do Brasil LTDA</td>\n",
              "      <td>79108-550</td>\n",
              "      <td>Campo Grande</td>\n",
              "      <td>79108-550</td>\n",
              "      <td>Campo Grande</td>\n",
              "      <td>2020-04-02</td>\n",
              "      <td>1000000</td>\n",
              "      <td>0.0</td>\n",
              "    </tr>\n",
              "    <tr>\n",
              "      <th>3309</th>\n",
              "      <td>4.202</td>\n",
              "      <td>1690</td>\n",
              "      <td>BR</td>\n",
              "      <td>20291611</td>\n",
              "      <td>GS Inima Industrial Jeceaba S.A.</td>\n",
              "      <td>LF007</td>\n",
              "      <td>FT-3-1102-047</td>\n",
              "      <td>Lab Filtration</td>\n",
              "      <td>Glass Microfiber filters MGB</td>\n",
              "      <td>30</td>\n",
              "      <td>2979.07</td>\n",
              "      <td>0</td>\n",
              "      <td>0.0</td>\n",
              "      <td>1690-24</td>\n",
              "      <td>20291611</td>\n",
              "      <td>GS Inima Industrial Jeceaba S.A.</td>\n",
              "      <td>35498-000</td>\n",
              "      <td>Jeceaba</td>\n",
              "      <td>35498-000</td>\n",
              "      <td>Jeceaba</td>\n",
              "      <td>2020-04-09</td>\n",
              "      <td>1000000</td>\n",
              "      <td>0.0</td>\n",
              "    </tr>\n",
              "    <tr>\n",
              "      <th>3356</th>\n",
              "      <td>4.202</td>\n",
              "      <td>1690</td>\n",
              "      <td>BR</td>\n",
              "      <td>20292257</td>\n",
              "      <td>HNK BR Bebidas LTDA.</td>\n",
              "      <td>MB000</td>\n",
              "      <td>11406--47----ACN</td>\n",
              "      <td>Microbiology</td>\n",
              "      <td>CN white - black, sterile, 0.45 Âµm</td>\n",
              "      <td>30</td>\n",
              "      <td>3015.08</td>\n",
              "      <td>0</td>\n",
              "      <td>0.0</td>\n",
              "      <td>1690-30</td>\n",
              "      <td>20292257</td>\n",
              "      <td>HNK BR Bebidas LTDA.</td>\n",
              "      <td>13312-900</td>\n",
              "      <td>Itu</td>\n",
              "      <td>68795-000</td>\n",
              "      <td>Benevides</td>\n",
              "      <td>2020-04-16</td>\n",
              "      <td>1000000</td>\n",
              "      <td>0.0</td>\n",
              "    </tr>\n",
              "    <tr>\n",
              "      <th>3368</th>\n",
              "      <td>4.202</td>\n",
              "      <td>1690</td>\n",
              "      <td>BR</td>\n",
              "      <td>20322853</td>\n",
              "      <td>Blau Farmaceutica S.A</td>\n",
              "      <td>PT02</td>\n",
              "      <td>26787---FT---P</td>\n",
              "      <td>Filtration</td>\n",
              "      <td>Sartocheck 5 Plus Filter Tester</td>\n",
              "      <td>1</td>\n",
              "      <td>55755.60</td>\n",
              "      <td>0</td>\n",
              "      <td>0.0</td>\n",
              "      <td>1690-2</td>\n",
              "      <td>20322853</td>\n",
              "      <td>Blau Farmaceutica S.A</td>\n",
              "      <td>06705-030</td>\n",
              "      <td>Cotia</td>\n",
              "      <td>06705-030</td>\n",
              "      <td>Cotia</td>\n",
              "      <td>2020-04-17</td>\n",
              "      <td>1000000</td>\n",
              "      <td>0.0</td>\n",
              "    </tr>\n",
              "    <tr>\n",
              "      <th>3370</th>\n",
              "      <td>4.202</td>\n",
              "      <td>1690</td>\n",
              "      <td>BR</td>\n",
              "      <td>20322853</td>\n",
              "      <td>Blau Farmaceutica S.A</td>\n",
              "      <td>PT02</td>\n",
              "      <td>26787---FT---P</td>\n",
              "      <td>Filtration</td>\n",
              "      <td>Equipamento automático para Teste de Integrida...</td>\n",
              "      <td>1</td>\n",
              "      <td>55755.60</td>\n",
              "      <td>0</td>\n",
              "      <td>0.0</td>\n",
              "      <td>1690-15</td>\n",
              "      <td>20322853</td>\n",
              "      <td>Blau Farmaceutica S.A</td>\n",
              "      <td>06705-030</td>\n",
              "      <td>Cotia</td>\n",
              "      <td>06705-030</td>\n",
              "      <td>Cotia</td>\n",
              "      <td>2020-04-17</td>\n",
              "      <td>1000000</td>\n",
              "      <td>0.0</td>\n",
              "    </tr>\n",
              "    <tr>\n",
              "      <th>3393</th>\n",
              "      <td>4.202</td>\n",
              "      <td>1690</td>\n",
              "      <td>BR</td>\n",
              "      <td>20292093</td>\n",
              "      <td>Ceva Veterinária Ltda</td>\n",
              "      <td>PCB21</td>\n",
              "      <td>5232707H1----P</td>\n",
              "      <td>Filtration</td>\n",
              "      <td>Sartobran P Cartridge_0.2µm_10\"</td>\n",
              "      <td>85</td>\n",
              "      <td>75899.85</td>\n",
              "      <td>0</td>\n",
              "      <td>0.0</td>\n",
              "      <td>1690-15</td>\n",
              "      <td>20292093</td>\n",
              "      <td>Ceva Veterinária Ltda</td>\n",
              "      <td>35675-000</td>\n",
              "      <td>Juatuba</td>\n",
              "      <td>35675-000</td>\n",
              "      <td>Juatuba</td>\n",
              "      <td>2020-04-23</td>\n",
              "      <td>1000000</td>\n",
              "      <td>0.0</td>\n",
              "    </tr>\n",
              "    <tr>\n",
              "      <th>3418</th>\n",
              "      <td>4.202</td>\n",
              "      <td>1690</td>\n",
              "      <td>BR</td>\n",
              "      <td>20291080</td>\n",
              "      <td>Libbs Farmacêutica LTDA.</td>\n",
              "      <td>PF63</td>\n",
              "      <td>16363-P8</td>\n",
              "      <td>Fluid Management</td>\n",
              "      <td>BioSealer, equipamento para selagem de tubos t...</td>\n",
              "      <td>2</td>\n",
              "      <td>111497.81</td>\n",
              "      <td>0</td>\n",
              "      <td>0.0</td>\n",
              "      <td>1690-3</td>\n",
              "      <td>20291079</td>\n",
              "      <td>Libbs Farmacêutica LTDA.</td>\n",
              "      <td>01140-050</td>\n",
              "      <td>São Paulo</td>\n",
              "      <td>06807-320</td>\n",
              "      <td>Embu</td>\n",
              "      <td>2020-04-23</td>\n",
              "      <td>1000000</td>\n",
              "      <td>0.0</td>\n",
              "    </tr>\n",
              "    <tr>\n",
              "      <th>3438</th>\n",
              "      <td>4.202</td>\n",
              "      <td>1690</td>\n",
              "      <td>BR</td>\n",
              "      <td>20291080</td>\n",
              "      <td>Libbs Farmacêutica LTDA.</td>\n",
              "      <td>PC7B</td>\n",
              "      <td>295PB1P13ALSS</td>\n",
              "      <td>Purification</td>\n",
              "      <td>Sartoclear PB1, L-Drum, filtro de profundidade...</td>\n",
              "      <td>27</td>\n",
              "      <td>224456.22</td>\n",
              "      <td>0</td>\n",
              "      <td>0.0</td>\n",
              "      <td>1690-1</td>\n",
              "      <td>20291079</td>\n",
              "      <td>Libbs Farmacêutica LTDA.</td>\n",
              "      <td>01140-050</td>\n",
              "      <td>São Paulo</td>\n",
              "      <td>06807-320</td>\n",
              "      <td>Embu</td>\n",
              "      <td>2020-04-24</td>\n",
              "      <td>1000000</td>\n",
              "      <td>0.0</td>\n",
              "    </tr>\n",
              "    <tr>\n",
              "      <th>3471</th>\n",
              "      <td>4.202</td>\n",
              "      <td>1690</td>\n",
              "      <td>BR</td>\n",
              "      <td>20291080</td>\n",
              "      <td>Libbs Farmacêutica LTDA.</td>\n",
              "      <td>PCCC4</td>\n",
              "      <td>5627305G3--SS</td>\n",
              "      <td>Filtration</td>\n",
              "      <td>Sartoclean CA MaxiCaps;0.65µm;30''</td>\n",
              "      <td>12</td>\n",
              "      <td>47560.18</td>\n",
              "      <td>0</td>\n",
              "      <td>0.0</td>\n",
              "      <td>1690-3</td>\n",
              "      <td>20291079</td>\n",
              "      <td>Libbs Farmacêutica LTDA.</td>\n",
              "      <td>01140-050</td>\n",
              "      <td>São Paulo</td>\n",
              "      <td>06807-320</td>\n",
              "      <td>Embu</td>\n",
              "      <td>2020-04-28</td>\n",
              "      <td>1000000</td>\n",
              "      <td>0.0</td>\n",
              "    </tr>\n",
              "  </tbody>\n",
              "</table>\n",
              "</div>"
            ],
            "text/plain": [
              "      Month  Sales Org  ...    Meta   n_missing_linha_mes_ano\n",
              "447   1.202       1690  ...  1000000                      0.0\n",
              "604   1.202       1690  ...  1000000                      0.0\n",
              "625   1.202       1690  ...  1000000                      0.0\n",
              "656   1.202       1690  ...  1000000                      0.0\n",
              "657   1.202       1690  ...  1000000                      0.0\n",
              "665   1.202       1690  ...  1000000                      0.0\n",
              "675   1.202       1690  ...  1000000                      0.0\n",
              "690   1.202       1690  ...  1000000                      0.0\n",
              "754   1.202       1690  ...  1000000                      0.0\n",
              "755   1.202       1690  ...  1000000                      0.0\n",
              "756   1.202       1690  ...  1000000                      0.0\n",
              "757   1.202       1690  ...  1000000                      0.0\n",
              "759   1.202       1690  ...  1000000                      0.0\n",
              "760   1.202       1690  ...  1000000                      0.0\n",
              "761   1.202       1690  ...  1000000                      0.0\n",
              "783   1.202       1690  ...  1000000                      0.0\n",
              "810   1.202       1690  ...  1000000                      0.0\n",
              "812   1.202       1690  ...  1000000                      0.0\n",
              "924   1.202       1690  ...  1000000                      0.0\n",
              "1430  2.202       1690  ...  1000000                      0.0\n",
              "1508  2.202       1690  ...  1000000                      0.0\n",
              "1512  2.202       1690  ...  1000000                      0.0\n",
              "1577  2.202       1690  ...  1000000                      0.0\n",
              "1635  2.202       1690  ...  1000000                      0.0\n",
              "1693  2.202       1690  ...  1000000                      0.0\n",
              "1741  2.202       1690  ...  1000000                      0.0\n",
              "1747  2.202       1690  ...  1000000                      0.0\n",
              "2368  3.202       1690  ...  1000000                      0.0\n",
              "2447  3.202       1690  ...  1000000                      0.0\n",
              "2464  3.202       1690  ...  1000000                      0.0\n",
              "2515  3.202       1690  ...  1000000                      0.0\n",
              "2524  3.202       1690  ...  1000000                      0.0\n",
              "2530  3.202       1690  ...  1000000                      0.0\n",
              "2533  3.202       1690  ...  1000000                      0.0\n",
              "2543  3.202       1690  ...  1000000                      0.0\n",
              "2556  3.202       1690  ...  1000000                      0.0\n",
              "2614  3.202       1690  ...  1000000                      0.0\n",
              "2624  3.202       1690  ...  1000000                      0.0\n",
              "2637  3.202       1690  ...  1000000                      0.0\n",
              "2639  3.202       1690  ...  1000000                      0.0\n",
              "2662  3.202       1690  ...  1000000                      0.0\n",
              "2684  3.202       1690  ...  1000000                      0.0\n",
              "2691  3.202       1690  ...  1000000                      0.0\n",
              "3142  4.202       1690  ...  1000000                      0.0\n",
              "3203  4.202       1690  ...  1000000                      0.0\n",
              "3208  4.202       1690  ...  1000000                      0.0\n",
              "3309  4.202       1690  ...  1000000                      0.0\n",
              "3356  4.202       1690  ...  1000000                      0.0\n",
              "3368  4.202       1690  ...  1000000                      0.0\n",
              "3370  4.202       1690  ...  1000000                      0.0\n",
              "3393  4.202       1690  ...  1000000                      0.0\n",
              "3418  4.202       1690  ...  1000000                      0.0\n",
              "3438  4.202       1690  ...  1000000                      0.0\n",
              "3471  4.202       1690  ...  1000000                      0.0\n",
              "\n",
              "[54 rows x 23 columns]"
            ]
          },
          "metadata": {},
          "execution_count": 20
        }
      ]
    },
    {
      "cell_type": "code",
      "metadata": {
        "id": "q0FN8CY-O1Ou"
      },
      "source": [
        "# Creating a dataframe with the columns and rows (year and month) that had z-score below -3\n",
        "z_score_menor_3 = df_z_score[df_z_score.iloc[:,0:24] < -3]"
      ],
      "execution_count": null,
      "outputs": []
    },
    {
      "cell_type": "code",
      "metadata": {
        "colab": {
          "base_uri": "https://localhost:8080/"
        },
        "id": "WnzZ7d5lO72r",
        "outputId": "3dd936f1-512f-4343-f749-3beca4b4c82d"
      },
      "source": [
        "z_score_menor_3.dropna(how='all')"
      ],
      "execution_count": null,
      "outputs": [
        {
          "output_type": "execute_result",
          "data": {
            "text/html": [
              "<div>\n",
              "<style scoped>\n",
              "    .dataframe tbody tr th:only-of-type {\n",
              "        vertical-align: middle;\n",
              "    }\n",
              "\n",
              "    .dataframe tbody tr th {\n",
              "        vertical-align: top;\n",
              "    }\n",
              "\n",
              "    .dataframe thead th {\n",
              "        text-align: right;\n",
              "    }\n",
              "</style>\n",
              "<table border=\"1\" class=\"dataframe\">\n",
              "  <thead>\n",
              "    <tr style=\"text-align: right;\">\n",
              "      <th></th>\n",
              "      <th>Qty STM</th>\n",
              "      <th>Value STM</th>\n",
              "    </tr>\n",
              "  </thead>\n",
              "  <tbody>\n",
              "    <tr>\n",
              "      <th>3537</th>\n",
              "      <td>-4.045513</td>\n",
              "      <td>NaN</td>\n",
              "    </tr>\n",
              "  </tbody>\n",
              "</table>\n",
              "</div>"
            ],
            "text/plain": [
              "       Qty STM  Value STM\n",
              "3537 -4.045513        NaN"
            ]
          },
          "metadata": {},
          "execution_count": 22
        }
      ]
    },
    {
      "cell_type": "code",
      "metadata": {
        "colab": {
          "base_uri": "https://localhost:8080/"
        },
        "id": "bt04xtHyPDW9",
        "outputId": "3ae71e11-16a2-4468-d99c-8f1fe212caff"
      },
      "source": [
        "# Records that had outliers with z-score < 3\n",
        "df1.iloc[[3537]]"
      ],
      "execution_count": null,
      "outputs": [
        {
          "output_type": "execute_result",
          "data": {
            "text/html": [
              "<div>\n",
              "<style scoped>\n",
              "    .dataframe tbody tr th:only-of-type {\n",
              "        vertical-align: middle;\n",
              "    }\n",
              "\n",
              "    .dataframe tbody tr th {\n",
              "        vertical-align: top;\n",
              "    }\n",
              "\n",
              "    .dataframe thead th {\n",
              "        text-align: right;\n",
              "    }\n",
              "</style>\n",
              "<table border=\"1\" class=\"dataframe\">\n",
              "  <thead>\n",
              "    <tr style=\"text-align: right;\">\n",
              "      <th></th>\n",
              "      <th>Month</th>\n",
              "      <th>Sales Org</th>\n",
              "      <th>Country of goods received</th>\n",
              "      <th>CardCode</th>\n",
              "      <th>CardName</th>\n",
              "      <th>Material group (WAGR)</th>\n",
              "      <th>ItemCode</th>\n",
              "      <th>BA</th>\n",
              "      <th>Dscription</th>\n",
              "      <th>Qty STM</th>\n",
              "      <th>Value STM</th>\n",
              "      <th>Order intake QTY</th>\n",
              "      <th>Order intake Value</th>\n",
              "      <th>Representative</th>\n",
              "      <th>Customer no. (Ship-to Party)</th>\n",
              "      <th>Customer name (Ship-to party)</th>\n",
              "      <th>Postal code sold to party</th>\n",
              "      <th>City sold to party</th>\n",
              "      <th>Postal code ship to party</th>\n",
              "      <th>City ship to party</th>\n",
              "      <th>CalENDerday</th>\n",
              "      <th>Meta</th>\n",
              "      <th>n_missing_linha_mes_ano</th>\n",
              "    </tr>\n",
              "  </thead>\n",
              "  <tbody>\n",
              "    <tr>\n",
              "      <th>3537</th>\n",
              "      <td>4.202</td>\n",
              "      <td>1690</td>\n",
              "      <td>BR</td>\n",
              "      <td>20292257</td>\n",
              "      <td>HNK BR Bebidas LTDA.</td>\n",
              "      <td>MB000</td>\n",
              "      <td>11406--47----ACN</td>\n",
              "      <td>Microbiology</td>\n",
              "      <td>Filtro de membrana de nitrato de celulose, est...</td>\n",
              "      <td>-30</td>\n",
              "      <td>-3015.08</td>\n",
              "      <td>0</td>\n",
              "      <td>0.0</td>\n",
              "      <td>1690-30</td>\n",
              "      <td>20292257</td>\n",
              "      <td>HNK BR Bebidas LTDA.</td>\n",
              "      <td>13312-900</td>\n",
              "      <td>Itu</td>\n",
              "      <td>68795-000</td>\n",
              "      <td>Benevides</td>\n",
              "      <td>2020-04-13</td>\n",
              "      <td>1000000</td>\n",
              "      <td>0.0</td>\n",
              "    </tr>\n",
              "  </tbody>\n",
              "</table>\n",
              "</div>"
            ],
            "text/plain": [
              "      Month  Sales Org  ...    Meta   n_missing_linha_mes_ano\n",
              "3537  4.202       1690  ...  1000000                      0.0\n",
              "\n",
              "[1 rows x 23 columns]"
            ]
          },
          "metadata": {},
          "execution_count": 23
        }
      ]
    },
    {
      "cell_type": "markdown",
      "metadata": {
        "id": "ms6-k_i0xHQk"
      },
      "source": [
        "## Boxplot"
      ]
    },
    {
      "cell_type": "code",
      "metadata": {
        "colab": {
          "base_uri": "https://localhost:8080/"
        },
        "id": "YI5v5DTBxVPj",
        "outputId": "823db4e3-46c8-446f-ceb2-a1b468f3192f"
      },
      "source": [
        "sns.boxplot(x=df1['Value STM'])"
      ],
      "execution_count": null,
      "outputs": [
        {
          "output_type": "execute_result",
          "data": {
            "text/plain": [
              "<matplotlib.axes._subplots.AxesSubplot at 0x7fa93a168d10>"
            ]
          },
          "metadata": {},
          "execution_count": 24
        },
        {
          "output_type": "display_data",
          "data": {
            "image/png": "[encoded data removed]",
            "text/plain": [
              "<Figure size 432x288 with 1 Axes>"
            ]
          },
          "metadata": {
            "needs_background": "light"
          }
        }
      ]
    },
    {
      "cell_type": "code",
      "metadata": {
        "colab": {
          "base_uri": "https://localhost:8080/"
        },
        "id": "jhiD2vdDxddk",
        "outputId": "8fd2ddf8-3b7f-4665-e1ae-de5838aa48e4"
      },
      "source": [
        "sns.boxplot(x=df1['Qty STM'])"
      ],
      "execution_count": null,
      "outputs": [
        {
          "output_type": "execute_result",
          "data": {
            "text/plain": [
              "<matplotlib.axes._subplots.AxesSubplot at 0x7fa93a0e5d10>"
            ]
          },
          "metadata": {},
          "execution_count": 25
        },
        {
          "output_type": "display_data",
          "data": {
            "image/png": "[encoded data removed]",
            "text/plain": [
              "<Figure size 432x288 with 1 Axes>"
            ]
          },
          "metadata": {
            "needs_background": "light"
          }
        }
      ]
    },
    {
      "cell_type": "markdown",
      "metadata": {
        "id": "IzYk54a6pQoJ"
      },
      "source": [
        "## Análise Exploratória"
      ]
    },
    {
      "cell_type": "code",
      "metadata": {
        "colab": {
          "base_uri": "https://localhost:8080/"
        },
        "id": "5TXRNefXvZFD",
        "outputId": "dab6a609-777e-4465-a621-7c9098edc8c7"
      },
      "source": [
        "# How many customers do we have in the base?\n",
        "df1[\"CardCode\"].nunique()"
      ],
      "execution_count": null,
      "outputs": [
        {
          "output_type": "execute_result",
          "data": {
            "text/plain": [
              "549"
            ]
          },
          "metadata": {},
          "execution_count": 26
        }
      ]
    },
    {
      "cell_type": "code",
      "metadata": {
        "colab": {
          "base_uri": "https://localhost:8080/"
        },
        "id": "ZzT-9pxgv2UN",
        "outputId": "2ee045e2-94dc-49a1-9df4-23d3dee3c81d"
      },
      "source": [
        "# How many products do we have in the base ?\n",
        "df1[\"ItemCode\"].nunique()"
      ],
      "execution_count": null,
      "outputs": [
        {
          "output_type": "execute_result",
          "data": {
            "text/plain": [
              "646"
            ]
          },
          "metadata": {},
          "execution_count": 27
        }
      ]
    },
    {
      "cell_type": "code",
      "metadata": {
        "colab": {
          "base_uri": "https://localhost:8080/"
        },
        "id": "QexipCjKwLCO",
        "outputId": "05f63964-01ea-4c73-8c4d-91cccf28b0ce"
      },
      "source": [
        "# How many products were sold in total?\n",
        "df1['Qty STM'].sum()"
      ],
      "execution_count": null,
      "outputs": [
        {
          "output_type": "execute_result",
          "data": {
            "text/plain": [
              "7842"
            ]
          },
          "metadata": {},
          "execution_count": 28
        }
      ]
    },
    {
      "cell_type": "code",
      "metadata": {
        "colab": {
          "base_uri": "https://localhost:8080/"
        },
        "id": "O4A57_2TwbQ7",
        "outputId": "fa410f01-f720-46ec-a42f-38ce46ee7859"
      },
      "source": [
        "# What is the total amount sold?\n",
        "df1['Value STM'].sum()"
      ],
      "execution_count": null,
      "outputs": [
        {
          "output_type": "execute_result",
          "data": {
            "text/plain": [
              "6911638.14408"
            ]
          },
          "metadata": {},
          "execution_count": 29
        }
      ]
    },
    {
      "cell_type": "code",
      "metadata": {
        "colab": {
          "base_uri": "https://localhost:8080/"
        },
        "id": "CH1PJNs9J0nt",
        "outputId": "b926d0ab-3d72-42bd-bcf4-3f885a62ee52"
      },
      "source": [
        "# How many representatives are on the base?\n",
        "df1['Representative'].nunique()"
      ],
      "execution_count": null,
      "outputs": [
        {
          "output_type": "execute_result",
          "data": {
            "text/plain": [
              "25"
            ]
          },
          "metadata": {},
          "execution_count": 30
        }
      ]
    },
    {
      "cell_type": "code",
      "metadata": {
        "colab": {
          "base_uri": "https://localhost:8080/"
        },
        "id": "6NuU9Et8ntfT",
        "outputId": "4f736b04-a16c-4ce8-ba33-41418d9e22dc"
      },
      "source": [
        "# Which group had the greatest relevance?\n",
        "x = df1['BA'].value_counts().head(10).index\n",
        "y = df1[\"BA\"].value_counts().head(10).values\n",
        "fig = go.Figure([go.Bar(x=x, y=y)])\n",
        "fig.show()"
      ],
      "execution_count": null,
      "outputs": [
        {
          "output_type": "display_data",
          "data": {
            "text/html": [
              "<html>\n",
              "<head><meta charset=\"utf-8\" /></head>\n",
              "<body>\n",
              "    <div>\n",
              "            <script src=\"https://cdnjs.cloudflare.com/ajax/libs/mathjax/2.7.5/MathJax.js?config=TeX-AMS-MML_SVG\"></script><script type=\"text/javascript\">if (window.MathJax) {MathJax.Hub.Config({SVG: {font: \"STIX-Web\"}});}</script>\n",
              "                <script type=\"text/javascript\">window.PlotlyConfig = {MathJaxConfig: 'local'};</script>\n",
              "        <script src=\"https://cdn.plot.ly/plotly-latest.min.js\"></script>    \n",
              "            <div id=\"531c8f20-2d97-40ac-9e9d-9c6046039dfb\" class=\"plotly-graph-div\" style=\"height:525px; width:100%;\"></div>\n",
              "            <script type=\"text/javascript\">\n",
              "                \n",
              "                    window.PLOTLYENV=window.PLOTLYENV || {};\n",
              "                    \n",
              "                if (document.getElementById(\"531c8f20-2d97-40ac-9e9d-9c6046039dfb\")) {\n",
              "                    Plotly.newPlot(\n",
              "                        '531c8f20-2d97-40ac-9e9d-9c6046039dfb',\n",
              "                        [{\"type\": \"bar\", \"x\": [\"Microbiology\", \"Lab Filtration\", \"Filtration\", \"Services Lab Essentials\", \"Liquid Handling\", \"Lab Water\", \"Lab Weighing\", \"Purification\", \"Services Bioprocess\", \"Fluid Management\"], \"y\": [1045, 669, 437, 397, 322, 305, 171, 110, 52, 23]}],\n",
              "                        {\"template\": {\"data\": {\"bar\": [{\"error_x\": {\"color\": \"#2a3f5f\"}, \"error_y\": {\"color\": \"#2a3f5f\"}, \"marker\": {\"line\": {\"color\": \"#E5ECF6\", \"width\": 0.5}}, \"type\": \"bar\"}], \"barpolar\": [{\"marker\": {\"line\": {\"color\": \"#E5ECF6\", \"width\": 0.5}}, \"type\": \"barpolar\"}], \"carpet\": [{\"aaxis\": {\"endlinecolor\": \"#2a3f5f\", \"gridcolor\": \"white\", \"linecolor\": \"white\", \"minorgridcolor\": \"white\", \"startlinecolor\": \"#2a3f5f\"}, \"baxis\": {\"endlinecolor\": \"#2a3f5f\", \"gridcolor\": \"white\", \"linecolor\": \"white\", \"minorgridcolor\": \"white\", \"startlinecolor\": \"#2a3f5f\"}, \"type\": \"carpet\"}], \"choropleth\": [{\"colorbar\": {\"outlinewidth\": 0, \"ticks\": \"\"}, \"type\": \"choropleth\"}], \"contour\": [{\"colorbar\": {\"outlinewidth\": 0, \"ticks\": \"\"}, \"colorscale\": [[0.0, \"#0d0887\"], [0.1111111111111111, \"#46039f\"], [0.2222222222222222, \"#7201a8\"], [0.3333333333333333, \"#9c179e\"], [0.4444444444444444, \"#bd3786\"], [0.5555555555555556, \"#d8576b\"], [0.6666666666666666, \"#ed7953\"], [0.7777777777777778, \"#fb9f3a\"], [0.8888888888888888, \"#fdca26\"], [1.0, \"#f0f921\"]], \"type\": \"contour\"}], \"contourcarpet\": [{\"colorbar\": {\"outlinewidth\": 0, \"ticks\": \"\"}, \"type\": \"contourcarpet\"}], \"heatmap\": [{\"colorbar\": {\"outlinewidth\": 0, \"ticks\": \"\"}, \"colorscale\": [[0.0, \"#0d0887\"], [0.1111111111111111, \"#46039f\"], [0.2222222222222222, \"#7201a8\"], [0.3333333333333333, \"#9c179e\"], [0.4444444444444444, \"#bd3786\"], [0.5555555555555556, \"#d8576b\"], [0.6666666666666666, \"#ed7953\"], [0.7777777777777778, \"#fb9f3a\"], [0.8888888888888888, \"#fdca26\"], [1.0, \"#f0f921\"]], \"type\": \"heatmap\"}], \"heatmapgl\": [{\"colorbar\": {\"outlinewidth\": 0, \"ticks\": \"\"}, \"colorscale\": [[0.0, \"#0d0887\"], [0.1111111111111111, \"#46039f\"], [0.2222222222222222, \"#7201a8\"], [0.3333333333333333, \"#9c179e\"], [0.4444444444444444, \"#bd3786\"], [0.5555555555555556, \"#d8576b\"], [0.6666666666666666, \"#ed7953\"], [0.7777777777777778, \"#fb9f3a\"], [0.8888888888888888, \"#fdca26\"], [1.0, \"#f0f921\"]], \"type\": \"heatmapgl\"}], \"histogram\": [{\"marker\": {\"colorbar\": {\"outlinewidth\": 0, \"ticks\": \"\"}}, \"type\": \"histogram\"}], \"histogram2d\": [{\"colorbar\": {\"outlinewidth\": 0, \"ticks\": \"\"}, \"colorscale\": [[0.0, \"#0d0887\"], [0.1111111111111111, \"#46039f\"], [0.2222222222222222, \"#7201a8\"], [0.3333333333333333, \"#9c179e\"], [0.4444444444444444, \"#bd3786\"], [0.5555555555555556, \"#d8576b\"], [0.6666666666666666, \"#ed7953\"], [0.7777777777777778, \"#fb9f3a\"], [0.8888888888888888, \"#fdca26\"], [1.0, \"#f0f921\"]], \"type\": \"histogram2d\"}], \"histogram2dcontour\": [{\"colorbar\": {\"outlinewidth\": 0, \"ticks\": \"\"}, \"colorscale\": [[0.0, \"#0d0887\"], [0.1111111111111111, \"#46039f\"], [0.2222222222222222, \"#7201a8\"], [0.3333333333333333, \"#9c179e\"], [0.4444444444444444, \"#bd3786\"], [0.5555555555555556, \"#d8576b\"], [0.6666666666666666, \"#ed7953\"], [0.7777777777777778, \"#fb9f3a\"], [0.8888888888888888, \"#fdca26\"], [1.0, \"#f0f921\"]], \"type\": \"histogram2dcontour\"}], \"mesh3d\": [{\"colorbar\": {\"outlinewidth\": 0, \"ticks\": \"\"}, \"type\": \"mesh3d\"}], \"parcoords\": [{\"line\": {\"colorbar\": {\"outlinewidth\": 0, \"ticks\": \"\"}}, \"type\": \"parcoords\"}], \"pie\": [{\"automargin\": true, \"type\": \"pie\"}], \"scatter\": [{\"marker\": {\"colorbar\": {\"outlinewidth\": 0, \"ticks\": \"\"}}, \"type\": \"scatter\"}], \"scatter3d\": [{\"line\": {\"colorbar\": {\"outlinewidth\": 0, \"ticks\": \"\"}}, \"marker\": {\"colorbar\": {\"outlinewidth\": 0, \"ticks\": \"\"}}, \"type\": \"scatter3d\"}], \"scattercarpet\": [{\"marker\": {\"colorbar\": {\"outlinewidth\": 0, \"ticks\": \"\"}}, \"type\": \"scattercarpet\"}], \"scattergeo\": [{\"marker\": {\"colorbar\": {\"outlinewidth\": 0, \"ticks\": \"\"}}, \"type\": \"scattergeo\"}], \"scattergl\": [{\"marker\": {\"colorbar\": {\"outlinewidth\": 0, \"ticks\": \"\"}}, \"type\": \"scattergl\"}], \"scattermapbox\": [{\"marker\": {\"colorbar\": {\"outlinewidth\": 0, \"ticks\": \"\"}}, \"type\": \"scattermapbox\"}], \"scatterpolar\": [{\"marker\": {\"colorbar\": {\"outlinewidth\": 0, \"ticks\": \"\"}}, \"type\": \"scatterpolar\"}], \"scatterpolargl\": [{\"marker\": {\"colorbar\": {\"outlinewidth\": 0, \"ticks\": \"\"}}, \"type\": \"scatterpolargl\"}], \"scatterternary\": [{\"marker\": {\"colorbar\": {\"outlinewidth\": 0, \"ticks\": \"\"}}, \"type\": \"scatterternary\"}], \"surface\": [{\"colorbar\": {\"outlinewidth\": 0, \"ticks\": \"\"}, \"colorscale\": [[0.0, \"#0d0887\"], [0.1111111111111111, \"#46039f\"], [0.2222222222222222, \"#7201a8\"], [0.3333333333333333, \"#9c179e\"], [0.4444444444444444, \"#bd3786\"], [0.5555555555555556, \"#d8576b\"], [0.6666666666666666, \"#ed7953\"], [0.7777777777777778, \"#fb9f3a\"], [0.8888888888888888, \"#fdca26\"], [1.0, \"#f0f921\"]], \"type\": \"surface\"}], \"table\": [{\"cells\": {\"fill\": {\"color\": \"#EBF0F8\"}, \"line\": {\"color\": \"white\"}}, \"header\": {\"fill\": {\"color\": \"#C8D4E3\"}, \"line\": {\"color\": \"white\"}}, \"type\": \"table\"}]}, \"layout\": {\"annotationdefaults\": {\"arrowcolor\": \"#2a3f5f\", \"arrowhead\": 0, \"arrowwidth\": 1}, \"coloraxis\": {\"colorbar\": {\"outlinewidth\": 0, \"ticks\": \"\"}}, \"colorscale\": {\"diverging\": [[0, \"#8e0152\"], [0.1, \"#c51b7d\"], [0.2, \"#de77ae\"], [0.3, \"#f1b6da\"], [0.4, \"#fde0ef\"], [0.5, \"#f7f7f7\"], [0.6, \"#e6f5d0\"], [0.7, \"#b8e186\"], [0.8, \"#7fbc41\"], [0.9, \"#4d9221\"], [1, \"#276419\"]], \"sequential\": [[0.0, \"#0d0887\"], [0.1111111111111111, \"#46039f\"], [0.2222222222222222, \"#7201a8\"], [0.3333333333333333, \"#9c179e\"], [0.4444444444444444, \"#bd3786\"], [0.5555555555555556, \"#d8576b\"], [0.6666666666666666, \"#ed7953\"], [0.7777777777777778, \"#fb9f3a\"], [0.8888888888888888, \"#fdca26\"], [1.0, \"#f0f921\"]], \"sequentialminus\": [[0.0, \"#0d0887\"], [0.1111111111111111, \"#46039f\"], [0.2222222222222222, \"#7201a8\"], [0.3333333333333333, \"#9c179e\"], [0.4444444444444444, \"#bd3786\"], [0.5555555555555556, \"#d8576b\"], [0.6666666666666666, \"#ed7953\"], [0.7777777777777778, \"#fb9f3a\"], [0.8888888888888888, \"#fdca26\"], [1.0, \"#f0f921\"]]}, \"colorway\": [\"#636efa\", \"#EF553B\", \"#00cc96\", \"#ab63fa\", \"#FFA15A\", \"#19d3f3\", \"#FF6692\", \"#B6E880\", \"#FF97FF\", \"#FECB52\"], \"font\": {\"color\": \"#2a3f5f\"}, \"geo\": {\"bgcolor\": \"white\", \"lakecolor\": \"white\", \"landcolor\": \"#E5ECF6\", \"showlakes\": true, \"showland\": true, \"subunitcolor\": \"white\"}, \"hoverlabel\": {\"align\": \"left\"}, \"hovermode\": \"closest\", \"mapbox\": {\"style\": \"light\"}, \"paper_bgcolor\": \"white\", \"plot_bgcolor\": \"#E5ECF6\", \"polar\": {\"angularaxis\": {\"gridcolor\": \"white\", \"linecolor\": \"white\", \"ticks\": \"\"}, \"bgcolor\": \"#E5ECF6\", \"radialaxis\": {\"gridcolor\": \"white\", \"linecolor\": \"white\", \"ticks\": \"\"}}, \"scene\": {\"xaxis\": {\"backgroundcolor\": \"#E5ECF6\", \"gridcolor\": \"white\", \"gridwidth\": 2, \"linecolor\": \"white\", \"showbackground\": true, \"ticks\": \"\", \"zerolinecolor\": \"white\"}, \"yaxis\": {\"backgroundcolor\": \"#E5ECF6\", \"gridcolor\": \"white\", \"gridwidth\": 2, \"linecolor\": \"white\", \"showbackground\": true, \"ticks\": \"\", \"zerolinecolor\": \"white\"}, \"zaxis\": {\"backgroundcolor\": \"#E5ECF6\", \"gridcolor\": \"white\", \"gridwidth\": 2, \"linecolor\": \"white\", \"showbackground\": true, \"ticks\": \"\", \"zerolinecolor\": \"white\"}}, \"shapedefaults\": {\"line\": {\"color\": \"#2a3f5f\"}}, \"ternary\": {\"aaxis\": {\"gridcolor\": \"white\", \"linecolor\": \"white\", \"ticks\": \"\"}, \"baxis\": {\"gridcolor\": \"white\", \"linecolor\": \"white\", \"ticks\": \"\"}, \"bgcolor\": \"#E5ECF6\", \"caxis\": {\"gridcolor\": \"white\", \"linecolor\": \"white\", \"ticks\": \"\"}}, \"title\": {\"x\": 0.05}, \"xaxis\": {\"automargin\": true, \"gridcolor\": \"white\", \"linecolor\": \"white\", \"ticks\": \"\", \"title\": {\"standoff\": 15}, \"zerolinecolor\": \"white\", \"zerolinewidth\": 2}, \"yaxis\": {\"automargin\": true, \"gridcolor\": \"white\", \"linecolor\": \"white\", \"ticks\": \"\", \"title\": {\"standoff\": 15}, \"zerolinecolor\": \"white\", \"zerolinewidth\": 2}}}},\n",
              "                        {\"responsive\": true}\n",
              "                    ).then(function(){\n",
              "                            \n",
              "var gd = document.getElementById('531c8f20-2d97-40ac-9e9d-9c6046039dfb');\n",
              "var x = new MutationObserver(function (mutations, observer) {{\n",
              "        var display = window.getComputedStyle(gd).display;\n",
              "        if (!display || display === 'none') {{\n",
              "            console.log([gd, 'removed!']);\n",
              "            Plotly.purge(gd);\n",
              "            observer.disconnect();\n",
              "        }}\n",
              "}});\n",
              "\n",
              "// Listen for the removal of the full notebook cells\n",
              "var notebookContainer = gd.closest('#notebook-container');\n",
              "if (notebookContainer) {{\n",
              "    x.observe(notebookContainer, {childList: true});\n",
              "}}\n",
              "\n",
              "// Listen for the clearing of the current output cell\n",
              "var outputEl = gd.closest('.output');\n",
              "if (outputEl) {{\n",
              "    x.observe(outputEl, {childList: true});\n",
              "}}\n",
              "\n",
              "                        })\n",
              "                };\n",
              "                \n",
              "            </script>\n",
              "        </div>\n",
              "</body>\n",
              "</html>"
            ]
          },
          "metadata": {}
        }
      ]
    },
    {
      "cell_type": "code",
      "metadata": {
        "colab": {
          "base_uri": "https://localhost:8080/"
        },
        "id": "bw_lWjt3pZqc",
        "outputId": "89eb28e6-b660-4856-d689-0282ae750a1a"
      },
      "source": [
        "# Which Group had the most products sold?\n",
        "df_groupby2 = df1.groupby(\"BA\", as_index= False).agg({\"Qty STM\": \"sum\"}).sort_values(\"Qty STM\", ascending=False)\n",
        "x = list(df_groupby2[\"BA\"])\n",
        "y = list(df_groupby2[\"Qty STM\"])\n",
        "fig = plt.figure(figsize = (10,5))\n",
        "plt.bar(x,y,width=0.4)\n",
        "plt.xticks(rotation=90)\n",
        "plt.xlabel(\"Grupo\")\n",
        "plt.ylabel(\"Quantidade de produtos\")\n",
        "plt.title(\"Quantidade de produtos por grupo\")\n",
        "plt.show()"
      ],
      "execution_count": null,
      "outputs": [
        {
          "output_type": "display_data",
          "data": {
            "image/png": "[encoded data removed]",
            "text/plain": [
              "<Figure size 720x360 with 1 Axes>"
            ]
          },
          "metadata": {
            "needs_background": "light"
          }
        }
      ]
    },
    {
      "cell_type": "code",
      "metadata": {
        "colab": {
          "base_uri": "https://localhost:8080/"
        },
        "id": "DhSqhmcfzaLN",
        "outputId": "c143982b-c927-4dbc-9e6d-8d0667ea5a42"
      },
      "source": [
        "# Which Group had the highest sales value?\n",
        "df_groupby2 = df1.groupby(\"BA\", as_index= False).agg({\"Value STM\": \"sum\"}).sort_values(\"Value STM\", ascending=False)\n",
        "x = list(df_groupby2[\"BA\"])\n",
        "y = list(df_groupby2[\"Value STM\"])\n",
        "fig = plt.figure(figsize = (10,5))\n",
        "plt.bar(x,y,width=0.4)\n",
        "plt.xticks(rotation=90)\n",
        "plt.xlabel(\"Grupo\")\n",
        "plt.ylabel(\"valor Total\")\n",
        "plt.title(\"Valor total vendidos por grupo\")\n",
        "plt.show()"
      ],
      "execution_count": null,
      "outputs": [
        {
          "output_type": "display_data",
          "data": {
            "image/png": "[encoded data removed]",
            "text/plain": [
              "<Figure size 720x360 with 1 Axes>"
            ]
          },
          "metadata": {
            "needs_background": "light"
          }
        }
      ]
    },
    {
      "cell_type": "code",
      "metadata": {
        "colab": {
          "base_uri": "https://localhost:8080/"
        },
        "id": "YmX1BoXC0mHB",
        "outputId": "30c8e595-0cc9-403e-c0d1-ed92dc110ef3"
      },
      "source": [
        "# Which Representative had the most products sold?\n",
        "df_groupby2 = df1.groupby(\"Representative\", as_index= False).agg({\"Qty STM\": \"sum\"}).sort_values(\"Qty STM\", ascending=False)\n",
        "x = list(df_groupby2[\"Representative\"])\n",
        "y = list(df_groupby2[\"Qty STM\"])\n",
        "fig = plt.figure(figsize = (10,5))\n",
        "plt.bar(x,y,width=0.4)\n",
        "plt.xticks(rotation=90)\n",
        "plt.xlabel(\"Representante\")\n",
        "plt.ylabel(\"Quantidade de produtos\")\n",
        "plt.title(\"Quantidade de produtos por Representante\")\n",
        "plt.show()"
      ],
      "execution_count": null,
      "outputs": [
        {
          "output_type": "display_data",
          "data": {
            "image/png": "[encoded data removed]",
            "text/plain": [
              "<Figure size 720x360 with 1 Axes>"
            ]
          },
          "metadata": {
            "needs_background": "light"
          }
        }
      ]
    },
    {
      "cell_type": "code",
      "metadata": {
        "colab": {
          "base_uri": "https://localhost:8080/"
        },
        "id": "u6Z3-QuY1aCl",
        "outputId": "0fa72916-be8a-4030-c196-98e580d333f9"
      },
      "source": [
        "# Which Representative had the highest sales value?\n",
        "df_groupby2 = df1.groupby(\"Representative\", as_index= False).agg({\"Value STM\": \"sum\"}).sort_values(\"Value STM\", ascending=False)\n",
        "x = list(df_groupby2[\"Representative\"])\n",
        "y = list(df_groupby2[\"Value STM\"])\n",
        "fig = plt.figure(figsize = (10,5))\n",
        "plt.bar(x,y,width=0.4)\n",
        "plt.xticks(rotation=90)\n",
        "plt.xlabel(\"Representante\")\n",
        "plt.ylabel(\"Valor Total\")\n",
        "plt.title(\"Valor total vendidos por Representante\")\n",
        "plt.show()"
      ],
      "execution_count": null,
      "outputs": [
        {
          "output_type": "display_data",
          "data": {
            "image/png": "[encoded data removed]",
            "text/plain": [
              "<Figure size 720x360 with 1 Axes>"
            ]
          },
          "metadata": {
            "needs_background": "light"
          }
        }
      ]
    },
    {
      "cell_type": "code",
      "metadata": {
        "colab": {
          "base_uri": "https://localhost:8080/"
        },
        "id": "6HUI9HqY20US",
        "outputId": "e570806d-dd38-471d-8894-ca4be3255e8d"
      },
      "source": [
        "# Which Customer had the most products sold?\n",
        "df_groupby2 = df1.groupby(\"CardName\", as_index= False).agg({\"Qty STM\": \"sum\"}).head(10).sort_values(\"Qty STM\", ascending=False)\n",
        "x = list(df_groupby2[\"CardName\"])\n",
        "y = list(df_groupby2[\"Qty STM\"])\n",
        "fig = plt.figure(figsize = (10,5))\n",
        "plt.bar(x,y,width=0.4)\n",
        "plt.xticks(rotation=90)\n",
        "plt.xlabel(\"Clientes\")\n",
        "plt.ylabel(\"Quantidade de produtos\")\n",
        "plt.title(\"Quantidade de produtos por Cliente\")\n",
        "plt.show()"
      ],
      "execution_count": null,
      "outputs": [
        {
          "output_type": "display_data",
          "data": {
            "image/png": "[encoded data removed]",
            "text/plain": [
              "<Figure size 720x360 with 1 Axes>"
            ]
          },
          "metadata": {
            "needs_background": "light"
          }
        }
      ]
    },
    {
      "cell_type": "code",
      "metadata": {
        "colab": {
          "base_uri": "https://localhost:8080/"
        },
        "id": "2kmvYPAf3Lvb",
        "outputId": "9ef94ff9-24a7-4633-eba2-aa21ec407903"
      },
      "source": [
        "# Which Representative had the highest sales value?\n",
        "df_groupby2 = df1.groupby(\"CardName\", as_index= False).agg({\"Value STM\": \"sum\"}).head(10).sort_values(\"Value STM\", ascending=False)\n",
        "x = list(df_groupby2[\"CardName\"])\n",
        "y = list(df_groupby2[\"Value STM\"])\n",
        "fig = plt.figure(figsize = (10,5))\n",
        "plt.bar(x,y,width=0.4)\n",
        "plt.xticks(rotation=90)\n",
        "plt.xlabel(\"Cliente\")\n",
        "plt.ylabel(\"Valor Total\")\n",
        "plt.title(\"Valor total vendidos por Cliente\")\n",
        "plt.show()"
      ],
      "execution_count": null,
      "outputs": [
        {
          "output_type": "display_data",
          "data": {
            "image/png": "[encoded data removed]",
            "text/plain": [
              "<Figure size 720x360 with 1 Axes>"
            ]
          },
          "metadata": {
            "needs_background": "light"
          }
        }
      ]
    },
    {
      "cell_type": "markdown",
      "metadata": {
        "id": "yfE12h0Pl2Bj"
      },
      "source": [
        "# Catboost Modeling\n",
        "Catboost is an open source machine learning algorithm. It can easily integrate with Deep Learning frameworks such as Google's Tensor FLow and Apple's Core ML. It can work with a variety of data types to help solve a wide range of issues facing businesses today. To complete it, it is one of the ones that offers the best precision in the class (TARGET)\n",
        "\n",
        "The name \"Catboost\" comes from two words \"cat egory\" and \"Boost ing\"\n",
        "The library works well with many categories of cat data, such as audio, text, image, including historical data.\n",
        "\n",
        "\"Boost\" comes from the gradient boost machine learning algorithm as this library is based on the gradient boost library. Gradient boosting is a powerful machine learning algorithm that is widely applied to various types of business challenges like fraud detection, recommendation items, forecasting and also performs well. It can also return very good results with relatively less data, unlike DL models that need to learn from a large amount of data.  \n"
      ]
    },
    {
      "cell_type": "markdown",
      "metadata": {
        "id": "ERlsUv4Zond7"
      },
      "source": [
        "# Advantages of Catboost library\n",
        "* Performance: CatBoost provides state-of-the-art results and is competitive with\n",
        "any leading machine learning algorithm performance front. handling categorical features automatically. We can use CatBoost without any explicit pre-processing to convert categories to numbers. CatBoost converts vategorical values ​​to numbers using various statistics on combinations of categorical features and combinations of categorical and numeric features\n",
        "\n",
        "* Robust: reduces the need for hyperparameter tuning and decreases the chances of overfitting, which leads to more generalized models. Although, CatBoost has several parameters to adjust and contains parameters such as the number of trees, learning rate, regularization, tree depth, fold size, bagging temperature and others.\n"
      ]
    },
    {
      "cell_type": "markdown",
      "metadata": {
        "id": "ja6ZTyslqwqj"
      },
      "source": [
        "The catBoost library can be used to solve classification and regression challenges. for classification you can use CatBoostClassifier and for regression CatBoostRegressor\n",
        "Furthermore, CatBoost does not require converting the dataset to any specific format, such as XGBoost and LightGBM."
      ]
    },
    {
      "cell_type": "markdown",
      "metadata": {
        "id": "lcaS1ElzxVm3"
      },
      "source": [
        "# Data processing"
      ]
    },
    {
      "cell_type": "code",
      "metadata": {
        "id": "Ek3z9mK6rPcm"
      },
      "source": [
        "# Transforming the \"Date\" Field (String format) to datetime\n",
        "# Creating Year, Month, Day, Week fields\n",
        "df1 = df.copy()\n",
        "df1['CalENDerday'] =  pd.to_datetime(df1['CalENDerday'], format='%Y-%m-%d')\n",
        "df1['Ano'] = df1[\"CalENDerday\"].dt.year\n",
        "df1[\"Mes\"] = df1[\"CalENDerday\"].dt.month\n",
        "df1[\"Dia\"] = df1[\"CalENDerday\"].dt.day\n",
        "df1[\"Semana\"] = df1[\"CalENDerday\"].dt.weekday"
      ],
      "execution_count": null,
      "outputs": []
    },
    {
      "cell_type": "code",
      "metadata": {
        "id": "Rp8cGA7gz89r"
      },
      "source": [
        "# Renaming columns\n",
        "df1.columns = \\\n",
        "['Month', \n",
        " 'Sales_Org', 'Country_of_goods received', 'Intercompany',\n",
        "       'CardCode', 'CardName', 'Material_group_(WAGR)', 'ItemCode', 'BA',\n",
        "       'Dscription', 'Qty_STM', 'Value_STM', 'TP2', 'Order_intake_QTY',\n",
        "       'Order_intake_Value', 'Representative', 'Stage_of_shipment',\n",
        "       'OI_cost_of_sales', 'Invoiced_cost_of_sales',\n",
        "       'Customer_no_(Ship_to_Party)', 'Customer_name_(Ship_to_party)',\n",
        "       'Postal_code_sold_to_party', 'City_sold_to_party',\n",
        "       'Postal_code_ship_to_party', 'City_ship_to_party', 'CalENDerday',\n",
        "       'Belegnummer_Auftrag', 'Belegnummer_Rechnung', 'Meta ', 'Ano', 'Mes',\n",
        "       'Dia', 'Semana']"
      ],
      "execution_count": null,
      "outputs": []
    },
    {
      "cell_type": "code",
      "metadata": {
        "id": "DN9nnJj85MvK"
      },
      "source": [
        "# Creating a variable with total value (total sum sold + sum ordered)\n",
        "df1['value_total'] = df1['Value_STM'] + df1['Order_intake_Value']"
      ],
      "execution_count": null,
      "outputs": []
    },
    {
      "cell_type": "code",
      "metadata": {
        "id": "e_lOIhwjwVfX",
        "colab": {
          "base_uri": "https://localhost:8080/",
          "height": 521
        },
        "outputId": "8a38b195-90b7-489e-d630-7526d1076db8"
      },
      "source": [
        "df1.head()"
      ],
      "execution_count": null,
      "outputs": [
        {
          "output_type": "execute_result",
          "data": {
            "text/html": [
              "<div>\n",
              "<style scoped>\n",
              "    .dataframe tbody tr th:only-of-type {\n",
              "        vertical-align: middle;\n",
              "    }\n",
              "\n",
              "    .dataframe tbody tr th {\n",
              "        vertical-align: top;\n",
              "    }\n",
              "\n",
              "    .dataframe thead th {\n",
              "        text-align: right;\n",
              "    }\n",
              "</style>\n",
              "<table border=\"1\" class=\"dataframe\">\n",
              "  <thead>\n",
              "    <tr style=\"text-align: right;\">\n",
              "      <th></th>\n",
              "      <th>Month</th>\n",
              "      <th>Sales_Org</th>\n",
              "      <th>Country_of_goods received</th>\n",
              "      <th>Intercompany</th>\n",
              "      <th>CardCode</th>\n",
              "      <th>CardName</th>\n",
              "      <th>Material_group_(WAGR)</th>\n",
              "      <th>ItemCode</th>\n",
              "      <th>BA</th>\n",
              "      <th>Dscription</th>\n",
              "      <th>Qty_STM</th>\n",
              "      <th>Value_STM</th>\n",
              "      <th>TP2</th>\n",
              "      <th>Order_intake_QTY</th>\n",
              "      <th>Order_intake_Value</th>\n",
              "      <th>Representative</th>\n",
              "      <th>Stage_of_shipment</th>\n",
              "      <th>OI_cost_of_sales</th>\n",
              "      <th>Invoiced_cost_of_sales</th>\n",
              "      <th>Customer_no_(Ship_to_Party)</th>\n",
              "      <th>Customer_name_(Ship_to_party)</th>\n",
              "      <th>Postal_code_sold_to_party</th>\n",
              "      <th>City_sold_to_party</th>\n",
              "      <th>Postal_code_ship_to_party</th>\n",
              "      <th>City_ship_to_party</th>\n",
              "      <th>CalENDerday</th>\n",
              "      <th>Belegnummer_Auftrag</th>\n",
              "      <th>Belegnummer_Rechnung</th>\n",
              "      <th>Meta</th>\n",
              "      <th>Ano</th>\n",
              "      <th>Mes</th>\n",
              "      <th>Dia</th>\n",
              "      <th>Semana</th>\n",
              "      <th>value_total</th>\n",
              "    </tr>\n",
              "  </thead>\n",
              "  <tbody>\n",
              "    <tr>\n",
              "      <th>0</th>\n",
              "      <td>1.202</td>\n",
              "      <td>1690</td>\n",
              "      <td>BR</td>\n",
              "      <td>NaN</td>\n",
              "      <td>20290742</td>\n",
              "      <td>Metrohm Brasil Instrumentação Análitica Ltda.</td>\n",
              "      <td>WBFBN</td>\n",
              "      <td>PRACTUM612-1OBR</td>\n",
              "      <td>Lab Weighing</td>\n",
              "      <td>Laboratory balance 610g_ 10mg</td>\n",
              "      <td>0</td>\n",
              "      <td>0.0</td>\n",
              "      <td>NaN</td>\n",
              "      <td>1</td>\n",
              "      <td>3018.40</td>\n",
              "      <td>1690-15</td>\n",
              "      <td>NaN</td>\n",
              "      <td>NaN</td>\n",
              "      <td>NaN</td>\n",
              "      <td>20290742</td>\n",
              "      <td>Metrohm Brasil Instrumentação Análitica Ltda.</td>\n",
              "      <td>05007-030</td>\n",
              "      <td>São Paulo</td>\n",
              "      <td>05007-030</td>\n",
              "      <td>São Paulo</td>\n",
              "      <td>2020-01-08</td>\n",
              "      <td>1.016934e+09</td>\n",
              "      <td>NaN</td>\n",
              "      <td>1000000</td>\n",
              "      <td>2020</td>\n",
              "      <td>1</td>\n",
              "      <td>8</td>\n",
              "      <td>2</td>\n",
              "      <td>3018.40</td>\n",
              "    </tr>\n",
              "    <tr>\n",
              "      <th>1</th>\n",
              "      <td>1.202</td>\n",
              "      <td>1690</td>\n",
              "      <td>BR</td>\n",
              "      <td>NaN</td>\n",
              "      <td>20290829</td>\n",
              "      <td>Refinaria de Petroleo Riograndense S/A</td>\n",
              "      <td>LF000</td>\n",
              "      <td>11301--47------N</td>\n",
              "      <td>Lab Filtration</td>\n",
              "      <td>CN membrane, 8 µm, 47 mm, 100 pcs</td>\n",
              "      <td>0</td>\n",
              "      <td>0.0</td>\n",
              "      <td>NaN</td>\n",
              "      <td>4</td>\n",
              "      <td>1028.35</td>\n",
              "      <td>1690-36</td>\n",
              "      <td>NaN</td>\n",
              "      <td>NaN</td>\n",
              "      <td>NaN</td>\n",
              "      <td>20290829</td>\n",
              "      <td>Refinaria de Petroleo Riograndense S/A</td>\n",
              "      <td>96202-900</td>\n",
              "      <td>Rio Grande</td>\n",
              "      <td>96202-900</td>\n",
              "      <td>Rio Grande</td>\n",
              "      <td>2020-01-02</td>\n",
              "      <td>1.016934e+09</td>\n",
              "      <td>NaN</td>\n",
              "      <td>1000000</td>\n",
              "      <td>2020</td>\n",
              "      <td>1</td>\n",
              "      <td>2</td>\n",
              "      <td>3</td>\n",
              "      <td>1028.35</td>\n",
              "    </tr>\n",
              "    <tr>\n",
              "      <th>2</th>\n",
              "      <td>1.202</td>\n",
              "      <td>1690</td>\n",
              "      <td>BR</td>\n",
              "      <td>NaN</td>\n",
              "      <td>20291089</td>\n",
              "      <td>Leco Instrumentos LTDA</td>\n",
              "      <td>WBDBO</td>\n",
              "      <td>QUINTIX224-1OBR</td>\n",
              "      <td>Lab Weighing</td>\n",
              "      <td>Laboratory balance 220g_ 0,1mg</td>\n",
              "      <td>0</td>\n",
              "      <td>0.0</td>\n",
              "      <td>NaN</td>\n",
              "      <td>1</td>\n",
              "      <td>10611.15</td>\n",
              "      <td>1690-20</td>\n",
              "      <td>NaN</td>\n",
              "      <td>NaN</td>\n",
              "      <td>NaN</td>\n",
              "      <td>20291089</td>\n",
              "      <td>Leco Instrumentos LTDA</td>\n",
              "      <td>22281-080</td>\n",
              "      <td>Rio de Janeiro</td>\n",
              "      <td>22281-080</td>\n",
              "      <td>Rio de Janeiro</td>\n",
              "      <td>2020-01-02</td>\n",
              "      <td>1.016934e+09</td>\n",
              "      <td>NaN</td>\n",
              "      <td>1000000</td>\n",
              "      <td>2020</td>\n",
              "      <td>1</td>\n",
              "      <td>2</td>\n",
              "      <td>3</td>\n",
              "      <td>10611.15</td>\n",
              "    </tr>\n",
              "    <tr>\n",
              "      <th>3</th>\n",
              "      <td>1.202</td>\n",
              "      <td>1690</td>\n",
              "      <td>BR</td>\n",
              "      <td>NaN</td>\n",
              "      <td>20291830</td>\n",
              "      <td>Althaia S.A. Industria Farmacêutica</td>\n",
              "      <td>MB022</td>\n",
              "      <td>14055--47------N</td>\n",
              "      <td>Microbiology</td>\n",
              "      <td>NKS Standard TTC, meio de cultura desidratado,...</td>\n",
              "      <td>0</td>\n",
              "      <td>0.0</td>\n",
              "      <td>NaN</td>\n",
              "      <td>5</td>\n",
              "      <td>1901.33</td>\n",
              "      <td>1690-2</td>\n",
              "      <td>NaN</td>\n",
              "      <td>NaN</td>\n",
              "      <td>NaN</td>\n",
              "      <td>20291830</td>\n",
              "      <td>Althaia S.A. Industria Farmacêutica</td>\n",
              "      <td>12952-820</td>\n",
              "      <td>Atibaia</td>\n",
              "      <td>05564-000</td>\n",
              "      <td>São Paulo</td>\n",
              "      <td>2020-01-02</td>\n",
              "      <td>1.016934e+09</td>\n",
              "      <td>NaN</td>\n",
              "      <td>1000000</td>\n",
              "      <td>2020</td>\n",
              "      <td>1</td>\n",
              "      <td>2</td>\n",
              "      <td>3</td>\n",
              "      <td>1901.33</td>\n",
              "    </tr>\n",
              "    <tr>\n",
              "      <th>4</th>\n",
              "      <td>1.202</td>\n",
              "      <td>1690</td>\n",
              "      <td>BR</td>\n",
              "      <td>NaN</td>\n",
              "      <td>20291830</td>\n",
              "      <td>Althaia S.A. Industria Farmacêutica</td>\n",
              "      <td>MB022</td>\n",
              "      <td>14075--47------N</td>\n",
              "      <td>Microbiology</td>\n",
              "      <td>NKS Cetrimide, meio de cultura, estéreis cx c/...</td>\n",
              "      <td>0</td>\n",
              "      <td>0.0</td>\n",
              "      <td>NaN</td>\n",
              "      <td>3</td>\n",
              "      <td>1445.11</td>\n",
              "      <td>1690-2</td>\n",
              "      <td>NaN</td>\n",
              "      <td>NaN</td>\n",
              "      <td>NaN</td>\n",
              "      <td>20291830</td>\n",
              "      <td>Althaia S.A. Industria Farmacêutica</td>\n",
              "      <td>12952-820</td>\n",
              "      <td>Atibaia</td>\n",
              "      <td>05564-000</td>\n",
              "      <td>São Paulo</td>\n",
              "      <td>2020-01-02</td>\n",
              "      <td>1.016934e+09</td>\n",
              "      <td>NaN</td>\n",
              "      <td>1000000</td>\n",
              "      <td>2020</td>\n",
              "      <td>1</td>\n",
              "      <td>2</td>\n",
              "      <td>3</td>\n",
              "      <td>1445.11</td>\n",
              "    </tr>\n",
              "  </tbody>\n",
              "</table>\n",
              "</div>"
            ],
            "text/plain": [
              "   Month  Sales_Org Country_of_goods received  ...  Dia  Semana value_total\n",
              "0  1.202       1690                        BR  ...    8       2     3018.40\n",
              "1  1.202       1690                        BR  ...    2       3     1028.35\n",
              "2  1.202       1690                        BR  ...    2       3    10611.15\n",
              "3  1.202       1690                        BR  ...    2       3     1901.33\n",
              "4  1.202       1690                        BR  ...    2       3     1445.11\n",
              "\n",
              "[5 rows x 34 columns]"
            ]
          },
          "metadata": {},
          "execution_count": 41
        }
      ]
    },
    {
      "cell_type": "code",
      "metadata": {
        "id": "nMMBF-sZycG8"
      },
      "source": [
        " df_algo = df1.groupby([\"Ano\",\"Mes\",\"Representative\",\"ItemCode\",\"CardName\",'Material_group_(WAGR)',\"BA\",\"City_ship_to_party\"]).value_total.sum().reset_index(name='value_total')"
      ],
      "execution_count": null,
      "outputs": []
    },
    {
      "cell_type": "code",
      "metadata": {
        "id": "SgpBMFsr8a1j"
      },
      "source": [
        "x = df_algo.drop(['value_total'],axis=1)\n",
        "y = df_algo.value_total"
      ],
      "execution_count": null,
      "outputs": []
    },
    {
      "cell_type": "code",
      "metadata": {
        "id": "qXiwOD0A8osy"
      },
      "source": [
        "x_train, x_validation, y_train, y_validation = train_test_split(x,y,train_size=0.7,random_state=7)\n",
        "categorical_features_indices = np.where(x.dtypes != np.float)[0]"
      ],
      "execution_count": null,
      "outputs": []
    },
    {
      "cell_type": "markdown",
      "metadata": {
        "id": "5k9d8vcR9yN2"
      },
      "source": [
        "# Creation of the Predictive Machine\n",
        "\n",
        "\n",
        "\n"
      ]
    },
    {
      "cell_type": "code",
      "metadata": {
        "colab": {
          "base_uri": "https://localhost:8080/",
          "height": 989,
          "referenced_widgets": [
            "e2ab463d99db41fd8a3bc85abff51c2c"
          ]
        },
        "id": "zkT9BnvU9nET",
        "outputId": "b6d985b7-0345-423c-815d-b73eda66e7e0"
      },
      "source": [
        "model = CatBoostRegressor(iterations=50,depth=3,learning_rate=0.1,loss_function=\"RMSE\")\n",
        "\n",
        "model.fit(x_train,y_train,cat_features = categorical_features_indices, eval_set=(x_validation,y_validation),plot=True)"
      ],
      "execution_count": null,
      "outputs": [
        {
          "output_type": "display_data",
          "data": {
            "application/vnd.jupyter.widget-view+json": {
              "model_id": "e2ab463d99db41fd8a3bc85abff51c2c",
              "version_minor": 0,
              "version_major": 2
            },
            "text/plain": [
              "MetricVisualizer(layout=Layout(align_self='stretch', height='500px'))"
            ]
          },
          "metadata": {}
        },
        {
          "output_type": "stream",
          "name": "stdout",
          "text": [
            "0:\tlearn: 25341.8495185\ttest: 23215.9674660\tbest: 23215.9674660 (0)\ttotal: 48ms\tremaining: 2.35s\n",
            "1:\tlearn: 25060.2519071\ttest: 22813.7758383\tbest: 22813.7758383 (1)\ttotal: 49.6ms\tremaining: 1.19s\n",
            "2:\tlearn: 24903.3167152\ttest: 22593.7672396\tbest: 22593.7672396 (2)\ttotal: 51ms\tremaining: 799ms\n",
            "3:\tlearn: 24714.2952160\ttest: 22429.8036506\tbest: 22429.8036506 (3)\ttotal: 52.3ms\tremaining: 602ms\n",
            "4:\tlearn: 24606.3478938\ttest: 22356.5623290\tbest: 22356.5623290 (4)\ttotal: 53.4ms\tremaining: 481ms\n",
            "5:\tlearn: 24490.1532859\ttest: 22318.4959222\tbest: 22318.4959222 (5)\ttotal: 54.5ms\tremaining: 400ms\n",
            "6:\tlearn: 24423.1636219\ttest: 22217.4069744\tbest: 22217.4069744 (6)\ttotal: 55.8ms\tremaining: 343ms\n",
            "7:\tlearn: 24324.3271990\ttest: 22091.2572892\tbest: 22091.2572892 (7)\ttotal: 57ms\tremaining: 299ms\n",
            "8:\tlearn: 24283.2623196\ttest: 22032.0129520\tbest: 22032.0129520 (8)\ttotal: 58ms\tremaining: 264ms\n",
            "9:\tlearn: 24199.4894097\ttest: 21929.6954031\tbest: 21929.6954031 (9)\ttotal: 59ms\tremaining: 236ms\n",
            "10:\tlearn: 24108.2272250\ttest: 21785.6991829\tbest: 21785.6991829 (10)\ttotal: 60.1ms\tremaining: 213ms\n",
            "11:\tlearn: 23952.5740229\ttest: 21764.8005917\tbest: 21764.8005917 (11)\ttotal: 61.2ms\tremaining: 194ms\n",
            "12:\tlearn: 23875.1677392\ttest: 21705.8719690\tbest: 21705.8719690 (12)\ttotal: 62.2ms\tremaining: 177ms\n",
            "13:\tlearn: 23802.5897639\ttest: 21661.1854634\tbest: 21661.1854634 (13)\ttotal: 63.3ms\tremaining: 163ms\n",
            "14:\tlearn: 23770.2626028\ttest: 21609.8158203\tbest: 21609.8158203 (14)\ttotal: 64.4ms\tremaining: 150ms\n",
            "15:\tlearn: 23756.3487368\ttest: 21592.8691796\tbest: 21592.8691796 (15)\ttotal: 65.4ms\tremaining: 139ms\n",
            "16:\tlearn: 23649.1207973\ttest: 21520.5474257\tbest: 21520.5474257 (16)\ttotal: 66.5ms\tremaining: 129ms\n",
            "17:\tlearn: 23614.3202119\ttest: 21444.6482978\tbest: 21444.6482978 (17)\ttotal: 67.6ms\tremaining: 120ms\n",
            "18:\tlearn: 23582.2616550\ttest: 21396.8561606\tbest: 21396.8561606 (18)\ttotal: 68.6ms\tremaining: 112ms\n",
            "19:\tlearn: 23561.8193330\ttest: 21365.4661664\tbest: 21365.4661664 (19)\ttotal: 69.6ms\tremaining: 104ms\n",
            "20:\tlearn: 23541.6828520\ttest: 21329.4608158\tbest: 21329.4608158 (20)\ttotal: 70.7ms\tremaining: 97.6ms\n",
            "21:\tlearn: 23527.6170496\ttest: 21321.9290414\tbest: 21321.9290414 (21)\ttotal: 71.7ms\tremaining: 91.3ms\n",
            "22:\tlearn: 23478.3418664\ttest: 21288.0440006\tbest: 21288.0440006 (22)\ttotal: 72.8ms\tremaining: 85.4ms\n",
            "23:\tlearn: 23459.5762145\ttest: 21270.1238685\tbest: 21270.1238685 (23)\ttotal: 73.8ms\tremaining: 80ms\n",
            "24:\tlearn: 23451.3895622\ttest: 21255.2545393\tbest: 21255.2545393 (24)\ttotal: 75ms\tremaining: 75ms\n",
            "25:\tlearn: 23435.0437413\ttest: 21226.2654763\tbest: 21226.2654763 (25)\ttotal: 76ms\tremaining: 70.2ms\n",
            "26:\tlearn: 23423.8980619\ttest: 21213.7397639\tbest: 21213.7397639 (26)\ttotal: 77.1ms\tremaining: 65.7ms\n",
            "27:\tlearn: 23327.1167752\ttest: 21081.7350121\tbest: 21081.7350121 (27)\ttotal: 78.1ms\tremaining: 61.4ms\n",
            "28:\tlearn: 23315.6333516\ttest: 21075.2525667\tbest: 21075.2525667 (28)\ttotal: 79.2ms\tremaining: 57.3ms\n",
            "29:\tlearn: 23301.5357911\ttest: 21083.5211097\tbest: 21075.2525667 (28)\ttotal: 80.2ms\tremaining: 53.5ms\n",
            "30:\tlearn: 23294.2554832\ttest: 21065.0038224\tbest: 21065.0038224 (30)\ttotal: 81.3ms\tremaining: 49.8ms\n",
            "31:\tlearn: 23292.9867199\ttest: 21063.8873885\tbest: 21063.8873885 (31)\ttotal: 82.4ms\tremaining: 46.4ms\n",
            "32:\tlearn: 23292.0728340\ttest: 21063.3238896\tbest: 21063.3238896 (32)\ttotal: 83.5ms\tremaining: 43ms\n",
            "33:\tlearn: 23291.5711906\ttest: 21063.5194636\tbest: 21063.3238896 (32)\ttotal: 84.5ms\tremaining: 39.8ms\n",
            "34:\tlearn: 23280.6533634\ttest: 21041.1230720\tbest: 21041.1230720 (34)\ttotal: 85.6ms\tremaining: 36.7ms\n",
            "35:\tlearn: 23258.1167699\ttest: 21003.4020945\tbest: 21003.4020945 (35)\ttotal: 86.6ms\tremaining: 33.7ms\n",
            "36:\tlearn: 23238.4951199\ttest: 20974.5379503\tbest: 20974.5379503 (36)\ttotal: 87.7ms\tremaining: 30.8ms\n",
            "37:\tlearn: 23226.9569182\ttest: 20959.3958464\tbest: 20959.3958464 (37)\ttotal: 88.7ms\tremaining: 28ms\n",
            "38:\tlearn: 23145.3559856\ttest: 20917.2486012\tbest: 20917.2486012 (38)\ttotal: 89.7ms\tremaining: 25.3ms\n",
            "39:\tlearn: 23118.7814312\ttest: 20919.5373230\tbest: 20917.2486012 (38)\ttotal: 90.8ms\tremaining: 22.7ms\n",
            "40:\tlearn: 23110.3194086\ttest: 20916.9290603\tbest: 20916.9290603 (40)\ttotal: 91.8ms\tremaining: 20.2ms\n",
            "41:\tlearn: 23073.5152984\ttest: 20868.6049307\tbest: 20868.6049307 (41)\ttotal: 92.8ms\tremaining: 17.7ms\n",
            "42:\tlearn: 23062.5720790\ttest: 20840.4591557\tbest: 20840.4591557 (42)\ttotal: 93.9ms\tremaining: 15.3ms\n",
            "43:\tlearn: 22977.0918243\ttest: 20819.4090654\tbest: 20819.4090654 (43)\ttotal: 94.9ms\tremaining: 12.9ms\n",
            "44:\tlearn: 22972.8294247\ttest: 20808.1825967\tbest: 20808.1825967 (44)\ttotal: 96ms\tremaining: 10.7ms\n",
            "45:\tlearn: 22964.0915654\ttest: 20800.5700098\tbest: 20800.5700098 (45)\ttotal: 97.1ms\tremaining: 8.44ms\n",
            "46:\tlearn: 22964.0875246\ttest: 20800.3014149\tbest: 20800.3014149 (46)\ttotal: 98ms\tremaining: 6.25ms\n",
            "47:\tlearn: 22856.5125264\ttest: 20701.5149664\tbest: 20701.5149664 (47)\ttotal: 99ms\tremaining: 4.13ms\n",
            "48:\tlearn: 22826.7910386\ttest: 20730.6438899\tbest: 20701.5149664 (47)\ttotal: 100ms\tremaining: 2.04ms\n",
            "49:\tlearn: 22824.6187461\ttest: 20733.7517972\tbest: 20701.5149664 (47)\ttotal: 101ms\tremaining: 0us\n",
            "\n",
            "bestTest = 20701.51497\n",
            "bestIteration = 47\n",
            "\n",
            "Shrink model to first 48 iterations.\n"
          ]
        },
        {
          "output_type": "execute_result",
          "data": {
            "text/plain": [
              "<catboost.core.CatBoostRegressor at 0x7fa9373aea10>"
            ]
          },
          "metadata": {},
          "execution_count": 45
        }
      ]
    },
    {
      "cell_type": "markdown",
      "metadata": {
        "id": "KktBx7LWA6Sv"
      },
      "source": [
        "# Evaluation of the Predictive Machine"
      ]
    },
    {
      "cell_type": "code",
      "metadata": {
        "id": "KToVwCR8CdN6",
        "colab": {
          "base_uri": "https://localhost:8080/"
        },
        "outputId": "952f0739-089a-4caa-8601-112ecaa4915c"
      },
      "source": [
        "# making predictions with training datapredict_train = model.predict(x_train)\n",
        "print('\\nItem_out_slaes on training data',predict_train)"
      ],
      "execution_count": null,
      "outputs": [
        {
          "output_type": "stream",
          "name": "stdout",
          "text": [
            "\n",
            "Item_out_slaes on training data [4024.58930303 1635.12673695 8235.17284727 ...  902.173375   3545.08393425\n",
            " 1042.38275385]\n"
          ]
        }
      ]
    },
    {
      "cell_type": "code",
      "metadata": {
        "colab": {
          "base_uri": "https://localhost:8080/"
        },
        "id": "d2YsDGOstN7F",
        "outputId": "5eba4e9c-952b-4dfb-f532-bb37ee01e344"
      },
      "source": [
        "# Calculating predictions with training data\n",
        "rmse_train = mean_squared_error(y_train,predict_train)**(0.5)\n",
        "print('\\nRMSE on train dataset:',rmse_train)"
      ],
      "execution_count": null,
      "outputs": [
        {
          "output_type": "stream",
          "name": "stdout",
          "text": [
            "\n",
            "RMSE on train dataset: 23878.588511296482\n"
          ]
        }
      ]
    },
    {
      "cell_type": "code",
      "metadata": {
        "id": "_xs9odlpuBHi"
      },
      "source": [
        "# Making predictions with test data \n",
        "predict_test = model.predict(x_validation)\n",
        "print('\\nItem_out_slaes on training data',predict_test)"
      ],
      "execution_count": null,
      "outputs": []
    },
    {
      "cell_type": "code",
      "metadata": {
        "colab": {
          "base_uri": "https://localhost:8080/"
        },
        "id": "zF1HE8XXu23X",
        "outputId": "cd68badb-bd84-45c9-e25e-64642ba147c4"
      },
      "source": [
        "# Calculating predictions with test datarmse_test = mean_squared_error(y_validation,predict_test)**(0.5)\n",
        "print('\\nRMSE on train dataset:',rmse_test)"
      ],
      "execution_count": null,
      "outputs": [
        {
          "output_type": "stream",
          "name": "stdout",
          "text": [
            "\n",
            "RMSE on train dataset: 20701.514945225594\n"
          ]
        }
      ]
    },
    {
      "cell_type": "code",
      "metadata": {
        "id": "58pj2H2evGXU"
      },
      "source": [
        ""
      ],
      "execution_count": null,
      "outputs": []
    }
  ]
}